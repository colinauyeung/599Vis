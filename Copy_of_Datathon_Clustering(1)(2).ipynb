{
  "cells": [
    {
      "cell_type": "markdown",
      "metadata": {
        "id": "STz9fJ4Sh9m7"
      },
      "source": [
        "# Datathon - Clustering"
      ]
    },
    {
      "cell_type": "code",
      "execution_count": 98,
      "metadata": {
        "collapsed": true,
        "id": "mpYu-R9qh9m8"
      },
      "outputs": [],
      "source": [
        "import numpy as np\n",
        "import scipy as sp\n",
        "import scipy.spatial.distance as spd\n",
        "import scipy.cluster.hierarchy as sph\n",
        "import sklearn as sk\n",
        "import sklearn.cluster as skc\n",
        "import pandas as pd\n",
        "import matplotlib.pyplot as plt\n",
        "import seaborn as sns\n",
        "import altair as alt\n",
        "import matplotlib.colors as pltc"
      ]
    },
    {
      "cell_type": "code",
      "source": [
        "from skimage import data"
      ],
      "metadata": {
        "id": "o-ILIXp-015t"
      },
      "execution_count": 99,
      "outputs": []
    },
    {
      "cell_type": "markdown",
      "metadata": {
        "id": "dNX2fBCch9m9"
      },
      "source": [
        "For this datathon we'll be working with data about LEGO construction sets. \n",
        "\n",
        "LEGO data comes from Rebrickable (https://rebrickable.com) via Kaggle (https://www.kaggle.com/rtatman/lego-database).\n",
        "The database contains all data in the Rebrickable database for sets released up to mid-2017 (almost all sets ever). \n",
        "\n",
        "We're giving you two simplified versions of the larger dataset.\n",
        "\n",
        "**(File 1) LEGO Colors** — Contains data on all of the different colors of LEGO pieces ever released. \n",
        "- Unique pieces = How many different kinds of bricks have been produced in the color.\n",
        "- Unique sets = How many different LEGO sets have included bricks in the color.\n",
        "- Unique themes = How many different LEGO themes (\"Town\", \"Space\", \"Ninjago\", \"Harry Potter\", etc.) have included the color.\n",
        "- Number of years = How many years have had sets with the color.\n",
        "- Max set size = How big was the biggest set that includes the color. \n",
        "- Median set size = How big was the median set that includes the color."
      ]
    },
    {
      "cell_type": "code",
      "execution_count": 100,
      "metadata": {
        "id": "5m7Tfbqvh9m9",
        "colab": {
          "base_uri": "https://localhost:8080/",
          "height": 206
        },
        "outputId": "e8584ca2-17c7-4f6f-93a2-a48181d2d9ae"
      },
      "outputs": [
        {
          "output_type": "execute_result",
          "data": {
            "text/html": [
              "\n",
              "  <div id=\"df-2e05876b-c327-432f-ac15-6117c6df4e7a\">\n",
              "    <div class=\"colab-df-container\">\n",
              "      <div>\n",
              "<style scoped>\n",
              "    .dataframe tbody tr th:only-of-type {\n",
              "        vertical-align: middle;\n",
              "    }\n",
              "\n",
              "    .dataframe tbody tr th {\n",
              "        vertical-align: top;\n",
              "    }\n",
              "\n",
              "    .dataframe thead th {\n",
              "        text-align: right;\n",
              "    }\n",
              "</style>\n",
              "<table border=\"1\" class=\"dataframe\">\n",
              "  <thead>\n",
              "    <tr style=\"text-align: right;\">\n",
              "      <th></th>\n",
              "      <th>Color</th>\n",
              "      <th>Number of Unique Pieces</th>\n",
              "      <th>Number of Unique Sets</th>\n",
              "      <th>Number of Unique Themes</th>\n",
              "      <th>Number of Years</th>\n",
              "      <th>Max Set Size</th>\n",
              "      <th>Median Set Size</th>\n",
              "    </tr>\n",
              "  </thead>\n",
              "  <tbody>\n",
              "    <tr>\n",
              "      <th>0</th>\n",
              "      <td>Aqua</td>\n",
              "      <td>55</td>\n",
              "      <td>48</td>\n",
              "      <td>15</td>\n",
              "      <td>10</td>\n",
              "      <td>1305</td>\n",
              "      <td>73</td>\n",
              "    </tr>\n",
              "    <tr>\n",
              "      <th>1</th>\n",
              "      <td>Black</td>\n",
              "      <td>4367</td>\n",
              "      <td>8333</td>\n",
              "      <td>373</td>\n",
              "      <td>60</td>\n",
              "      <td>5922</td>\n",
              "      <td>330</td>\n",
              "    </tr>\n",
              "    <tr>\n",
              "      <th>2</th>\n",
              "      <td>Blue</td>\n",
              "      <td>1822</td>\n",
              "      <td>5279</td>\n",
              "      <td>342</td>\n",
              "      <td>65</td>\n",
              "      <td>5922</td>\n",
              "      <td>300</td>\n",
              "    </tr>\n",
              "    <tr>\n",
              "      <th>3</th>\n",
              "      <td>Blue-Violet</td>\n",
              "      <td>35</td>\n",
              "      <td>17</td>\n",
              "      <td>3</td>\n",
              "      <td>2</td>\n",
              "      <td>987</td>\n",
              "      <td>165</td>\n",
              "    </tr>\n",
              "    <tr>\n",
              "      <th>4</th>\n",
              "      <td>Bright Green</td>\n",
              "      <td>257</td>\n",
              "      <td>726</td>\n",
              "      <td>131</td>\n",
              "      <td>24</td>\n",
              "      <td>5200</td>\n",
              "      <td>155</td>\n",
              "    </tr>\n",
              "  </tbody>\n",
              "</table>\n",
              "</div>\n",
              "      <button class=\"colab-df-convert\" onclick=\"convertToInteractive('df-2e05876b-c327-432f-ac15-6117c6df4e7a')\"\n",
              "              title=\"Convert this dataframe to an interactive table.\"\n",
              "              style=\"display:none;\">\n",
              "        \n",
              "  <svg xmlns=\"http://www.w3.org/2000/svg\" height=\"24px\"viewBox=\"0 0 24 24\"\n",
              "       width=\"24px\">\n",
              "    <path d=\"M0 0h24v24H0V0z\" fill=\"none\"/>\n",
              "    <path d=\"M18.56 5.44l.94 2.06.94-2.06 2.06-.94-2.06-.94-.94-2.06-.94 2.06-2.06.94zm-11 1L8.5 8.5l.94-2.06 2.06-.94-2.06-.94L8.5 2.5l-.94 2.06-2.06.94zm10 10l.94 2.06.94-2.06 2.06-.94-2.06-.94-.94-2.06-.94 2.06-2.06.94z\"/><path d=\"M17.41 7.96l-1.37-1.37c-.4-.4-.92-.59-1.43-.59-.52 0-1.04.2-1.43.59L10.3 9.45l-7.72 7.72c-.78.78-.78 2.05 0 2.83L4 21.41c.39.39.9.59 1.41.59.51 0 1.02-.2 1.41-.59l7.78-7.78 2.81-2.81c.8-.78.8-2.07 0-2.86zM5.41 20L4 18.59l7.72-7.72 1.47 1.35L5.41 20z\"/>\n",
              "  </svg>\n",
              "      </button>\n",
              "      \n",
              "  <style>\n",
              "    .colab-df-container {\n",
              "      display:flex;\n",
              "      flex-wrap:wrap;\n",
              "      gap: 12px;\n",
              "    }\n",
              "\n",
              "    .colab-df-convert {\n",
              "      background-color: #E8F0FE;\n",
              "      border: none;\n",
              "      border-radius: 50%;\n",
              "      cursor: pointer;\n",
              "      display: none;\n",
              "      fill: #1967D2;\n",
              "      height: 32px;\n",
              "      padding: 0 0 0 0;\n",
              "      width: 32px;\n",
              "    }\n",
              "\n",
              "    .colab-df-convert:hover {\n",
              "      background-color: #E2EBFA;\n",
              "      box-shadow: 0px 1px 2px rgba(60, 64, 67, 0.3), 0px 1px 3px 1px rgba(60, 64, 67, 0.15);\n",
              "      fill: #174EA6;\n",
              "    }\n",
              "\n",
              "    [theme=dark] .colab-df-convert {\n",
              "      background-color: #3B4455;\n",
              "      fill: #D2E3FC;\n",
              "    }\n",
              "\n",
              "    [theme=dark] .colab-df-convert:hover {\n",
              "      background-color: #434B5C;\n",
              "      box-shadow: 0px 1px 3px 1px rgba(0, 0, 0, 0.15);\n",
              "      filter: drop-shadow(0px 1px 2px rgba(0, 0, 0, 0.3));\n",
              "      fill: #FFFFFF;\n",
              "    }\n",
              "  </style>\n",
              "\n",
              "      <script>\n",
              "        const buttonEl =\n",
              "          document.querySelector('#df-2e05876b-c327-432f-ac15-6117c6df4e7a button.colab-df-convert');\n",
              "        buttonEl.style.display =\n",
              "          google.colab.kernel.accessAllowed ? 'block' : 'none';\n",
              "\n",
              "        async function convertToInteractive(key) {\n",
              "          const element = document.querySelector('#df-2e05876b-c327-432f-ac15-6117c6df4e7a');\n",
              "          const dataTable =\n",
              "            await google.colab.kernel.invokeFunction('convertToInteractive',\n",
              "                                                     [key], {});\n",
              "          if (!dataTable) return;\n",
              "\n",
              "          const docLinkHtml = 'Like what you see? Visit the ' +\n",
              "            '<a target=\"_blank\" href=https://colab.research.google.com/notebooks/data_table.ipynb>data table notebook</a>'\n",
              "            + ' to learn more about interactive tables.';\n",
              "          element.innerHTML = '';\n",
              "          dataTable['output_type'] = 'display_data';\n",
              "          await google.colab.output.renderOutput(dataTable, element);\n",
              "          const docLink = document.createElement('div');\n",
              "          docLink.innerHTML = docLinkHtml;\n",
              "          element.appendChild(docLink);\n",
              "        }\n",
              "      </script>\n",
              "    </div>\n",
              "  </div>\n",
              "  "
            ],
            "text/plain": [
              "          Color  Number of Unique Pieces  Number of Unique Sets  \\\n",
              "0          Aqua                       55                     48   \n",
              "1         Black                     4367                   8333   \n",
              "2          Blue                     1822                   5279   \n",
              "3   Blue-Violet                       35                     17   \n",
              "4  Bright Green                      257                    726   \n",
              "\n",
              "   Number of Unique Themes  Number of Years  Max Set Size  Median Set Size  \n",
              "0                       15               10          1305               73  \n",
              "1                      373               60          5922              330  \n",
              "2                      342               65          5922              300  \n",
              "3                        3                2           987              165  \n",
              "4                      131               24          5200              155  "
            ]
          },
          "metadata": {},
          "execution_count": 100
        }
      ],
      "source": [
        "lego_colors_url = 'https://drive.google.com/uc?export=download&id=1ulFLwT85rHL1zYAitReegEv1bOgQPf24'\n",
        "lego_colors = pd.read_csv(lego_colors_url,delimiter=\"\\t\")\n",
        "lego_colors.head()"
      ]
    },
    {
      "cell_type": "code",
      "execution_count": 101,
      "metadata": {
        "id": "ESp-BqPBh9m-",
        "colab": {
          "base_uri": "https://localhost:8080/",
          "height": 888
        },
        "outputId": "b8cf2a07-03c8-409a-d0c4-049380c0dcc4"
      },
      "outputs": [
        {
          "output_type": "display_data",
          "data": {
            "image/png": "[encoded data removed]",
            "text/plain": [
              "<Figure size 1080x1080 with 36 Axes>"
            ]
          },
          "metadata": {
            "needs_background": "light"
          }
        }
      ],
      "source": [
        "_ = pd.plotting.scatter_matrix(lego_colors, figsize=(15,15))"
      ]
    },
    {
      "cell_type": "code",
      "execution_count": 102,
      "metadata": {
        "id": "Q_trl0RHh9m-",
        "colab": {
          "base_uri": "https://localhost:8080/",
          "height": 388
        },
        "outputId": "5867beae-c173-438e-db86-9549a08ad6e2"
      },
      "outputs": [
        {
          "output_type": "display_data",
          "data": {
            "image/png": "[encoded data removed]",
            "text/plain": [
              "<Figure size 1008x432 with 1 Axes>"
            ]
          },
          "metadata": {
            "needs_background": "light"
          }
        }
      ],
      "source": [
        "# Plot two dimensions with color names\n",
        "plt.figure(figsize=(14,6))\n",
        "plt.scatter(lego_colors[\"Number of Years\"], lego_colors[\"Number of Unique Sets\"])\n",
        "plt.xlabel('Number of Years')\n",
        "plt.ylabel('Number of Unique Sets')\n",
        "\n",
        "for i, row in enumerate(lego_colors.values):\n",
        "    plt.annotate(row[0],xy=(row[4],row[2]),fontsize=10)"
      ]
    },
    {
      "cell_type": "code",
      "source": [
        "list(lego_colors.columns.values)"
      ],
      "metadata": {
        "id": "eNPReJPSS1ak",
        "colab": {
          "base_uri": "https://localhost:8080/"
        },
        "outputId": "63f43fd1-de82-4e50-bc0b-9dccda9730d9"
      },
      "execution_count": 103,
      "outputs": [
        {
          "output_type": "execute_result",
          "data": {
            "text/plain": [
              "['Color',\n",
              " 'Number of Unique Pieces',\n",
              " 'Number of Unique Sets',\n",
              " 'Number of Unique Themes',\n",
              " 'Number of Years',\n",
              " 'Max Set Size',\n",
              " 'Median Set Size']"
            ]
          },
          "metadata": {},
          "execution_count": 103
        }
      ]
    },
    {
      "cell_type": "code",
      "source": [
        "# Same chart, but in Altair. Note a couple of extremely useful features.\n",
        "points = alt.Chart(lego_colors).mark_point().encode(\n",
        "    x=\"Number of Years\",\n",
        "    y=\"Number of Unique Sets\",\n",
        "    tooltip=list(lego_colors.columns.values) #👀\n",
        "  )\n",
        "\n",
        "text = alt.Chart(lego_colors).mark_text(\n",
        "    align=\"left\",\n",
        "    baseline=\"bottom\"  \n",
        "  ).encode(\n",
        "    x=\"Number of Years\",\n",
        "    y=\"Number of Unique Sets\",\n",
        "    text=\"Color\"\n",
        "  )\n",
        "\n",
        "(points + text).properties(\n",
        "    width=800\n",
        "  ).interactive() #👀"
      ],
      "metadata": {
        "id": "xCMwl-8cO7rc",
        "colab": {
          "base_uri": "https://localhost:8080/",
          "height": 368
        },
        "outputId": "ecdbd011-8d9a-4dbc-996f-43fa55181b12"
      },
      "execution_count": 104,
      "outputs": [
        {
          "output_type": "execute_result",
          "data": {
            "text/plain": [
              "alt.LayerChart(...)"
            ],
            "text/html": [
              "\n",
              "<div id=\"altair-viz-4241176593c442a4bbeb2d2bcab61e2c\"></div>\n",
              "<script type=\"text/javascript\">\n",
              "  var VEGA_DEBUG = (typeof VEGA_DEBUG == \"undefined\") ? {} : VEGA_DEBUG;\n",
              "  (function(spec, embedOpt){\n",
              "    let outputDiv = document.currentScript.previousElementSibling;\n",
              "    if (outputDiv.id !== \"altair-viz-4241176593c442a4bbeb2d2bcab61e2c\") {\n",
              "      outputDiv = document.getElementById(\"altair-viz-4241176593c442a4bbeb2d2bcab61e2c\");\n",
              "    }\n",
              "    const paths = {\n",
              "      \"vega\": \"https://cdn.jsdelivr.net/npm//vega@5?noext\",\n",
              "      \"vega-lib\": \"https://cdn.jsdelivr.net/npm//vega-lib?noext\",\n",
              "      \"vega-lite\": \"https://cdn.jsdelivr.net/npm//vega-lite@4.17.0?noext\",\n",
              "      \"vega-embed\": \"https://cdn.jsdelivr.net/npm//vega-embed@6?noext\",\n",
              "    };\n",
              "\n",
              "    function maybeLoadScript(lib, version) {\n",
              "      var key = `${lib.replace(\"-\", \"\")}_version`;\n",
              "      return (VEGA_DEBUG[key] == version) ?\n",
              "        Promise.resolve(paths[lib]) :\n",
              "        new Promise(function(resolve, reject) {\n",
              "          var s = document.createElement('script');\n",
              "          document.getElementsByTagName(\"head\")[0].appendChild(s);\n",
              "          s.async = true;\n",
              "          s.onload = () => {\n",
              "            VEGA_DEBUG[key] = version;\n",
              "            return resolve(paths[lib]);\n",
              "          };\n",
              "          s.onerror = () => reject(`Error loading script: ${paths[lib]}`);\n",
              "          s.src = paths[lib];\n",
              "        });\n",
              "    }\n",
              "\n",
              "    function showError(err) {\n",
              "      outputDiv.innerHTML = `<div class=\"error\" style=\"color:red;\">${err}</div>`;\n",
              "      throw err;\n",
              "    }\n",
              "\n",
              "    function displayChart(vegaEmbed) {\n",
              "      vegaEmbed(outputDiv, spec, embedOpt)\n",
              "        .catch(err => showError(`Javascript Error: ${err.message}<br>This usually means there's a typo in your chart specification. See the javascript console for the full traceback.`));\n",
              "    }\n",
              "\n",
              "    if(typeof define === \"function\" && define.amd) {\n",
              "      requirejs.config({paths});\n",
              "      require([\"vega-embed\"], displayChart, err => showError(`Error loading script: ${err.message}`));\n",
              "    } else {\n",
              "      maybeLoadScript(\"vega\", \"5\")\n",
              "        .then(() => maybeLoadScript(\"vega-lite\", \"4.17.0\"))\n",
              "        .then(() => maybeLoadScript(\"vega-embed\", \"6\"))\n",
              "        .catch(showError)\n",
              "        .then(() => displayChart(vegaEmbed));\n",
              "    }\n",
              "  })({\"config\": {\"view\": {\"continuousWidth\": 400, \"continuousHeight\": 300}}, \"layer\": [{\"mark\": \"point\", \"encoding\": {\"tooltip\": [{\"field\": \"Color\", \"type\": \"nominal\"}, {\"field\": \"Number of Unique Pieces\", \"type\": \"quantitative\"}, {\"field\": \"Number of Unique Sets\", \"type\": \"quantitative\"}, {\"field\": \"Number of Unique Themes\", \"type\": \"quantitative\"}, {\"field\": \"Number of Years\", \"type\": \"quantitative\"}, {\"field\": \"Max Set Size\", \"type\": \"quantitative\"}, {\"field\": \"Median Set Size\", \"type\": \"quantitative\"}], \"x\": {\"field\": \"Number of Years\", \"type\": \"quantitative\"}, \"y\": {\"field\": \"Number of Unique Sets\", \"type\": \"quantitative\"}}, \"selection\": {\"selector011\": {\"type\": \"interval\", \"bind\": \"scales\", \"encodings\": [\"x\", \"y\"]}}}, {\"mark\": {\"type\": \"text\", \"align\": \"left\", \"baseline\": \"bottom\"}, \"encoding\": {\"text\": {\"field\": \"Color\", \"type\": \"nominal\"}, \"x\": {\"field\": \"Number of Years\", \"type\": \"quantitative\"}, \"y\": {\"field\": \"Number of Unique Sets\", \"type\": \"quantitative\"}}}], \"data\": {\"name\": \"data-40cca1157e479077bc53f329b41a53a3\"}, \"width\": 800, \"$schema\": \"https://vega.github.io/schema/vega-lite/v4.17.0.json\", \"datasets\": {\"data-40cca1157e479077bc53f329b41a53a3\": [{\"Color\": \"Aqua\", \"Number of Unique Pieces\": 55, \"Number of Unique Sets\": 48, \"Number of Unique Themes\": 15, \"Number of Years\": 10, \"Max Set Size\": 1305, \"Median Set Size\": 73}, {\"Color\": \"Black\", \"Number of Unique Pieces\": 4367, \"Number of Unique Sets\": 8333, \"Number of Unique Themes\": 373, \"Number of Years\": 60, \"Max Set Size\": 5922, \"Median Set Size\": 330}, {\"Color\": \"Blue\", \"Number of Unique Pieces\": 1822, \"Number of Unique Sets\": 5279, \"Number of Unique Themes\": 342, \"Number of Years\": 65, \"Max Set Size\": 5922, \"Median Set Size\": 300}, {\"Color\": \"Blue-Violet\", \"Number of Unique Pieces\": 35, \"Number of Unique Sets\": 17, \"Number of Unique Themes\": 3, \"Number of Years\": 2, \"Max Set Size\": 987, \"Median Set Size\": 165}, {\"Color\": \"Bright Green\", \"Number of Unique Pieces\": 257, \"Number of Unique Sets\": 726, \"Number of Unique Themes\": 131, \"Number of Years\": 24, \"Max Set Size\": 5200, \"Median Set Size\": 155}, {\"Color\": \"Bright Light Blue\", \"Number of Unique Pieces\": 137, \"Number of Unique Sets\": 196, \"Number of Unique Themes\": 53, \"Number of Years\": 16, \"Max Set Size\": 4009, \"Median Set Size\": 155}, {\"Color\": \"Bright Light Orange\", \"Number of Unique Pieces\": 404, \"Number of Unique Sets\": 618, \"Number of Unique Themes\": 128, \"Number of Years\": 14, \"Max Set Size\": 4640, \"Median Set Size\": 240}, {\"Color\": \"Bright Light Yellow\", \"Number of Unique Pieces\": 105, \"Number of Unique Sets\": 193, \"Number of Unique Themes\": 60, \"Number of Years\": 13, \"Max Set Size\": 4060, \"Median Set Size\": 197}, {\"Color\": \"Bright Pink\", \"Number of Unique Pieces\": 238, \"Number of Unique Sets\": 432, \"Number of Unique Themes\": 69, \"Number of Years\": 15, \"Max Set Size\": 4640, \"Median Set Size\": 208}, {\"Color\": \"Brown\", \"Number of Unique Pieces\": 463, \"Number of Unique Sets\": 933, \"Number of Unique Themes\": 131, \"Number of Years\": 38, \"Max Set Size\": 2472, \"Median Set Size\": 196}, {\"Color\": \"Chrome Antique Brass\", \"Number of Unique Pieces\": 2, \"Number of Unique Sets\": 14, \"Number of Unique Themes\": 7, \"Number of Years\": 5, \"Max Set Size\": 902, \"Median Set Size\": 355}, {\"Color\": \"Chrome Black\", \"Number of Unique Pieces\": 3, \"Number of Unique Sets\": 1, \"Number of Unique Themes\": 1, \"Number of Years\": 1, \"Max Set Size\": 7, \"Median Set Size\": 7}, {\"Color\": \"Chrome Blue\", \"Number of Unique Pieces\": 7, \"Number of Unique Sets\": 17, \"Number of Unique Themes\": 7, \"Number of Years\": 6, \"Max Set Size\": 485, \"Median Set Size\": 99}, {\"Color\": \"Chrome Gold\", \"Number of Unique Pieces\": 34, \"Number of Unique Sets\": 251, \"Number of Unique Themes\": 74, \"Number of Years\": 28, \"Max Set Size\": 4060, \"Median Set Size\": 226}, {\"Color\": \"Chrome Green\", \"Number of Unique Pieces\": 1, \"Number of Unique Sets\": 2, \"Number of Unique Themes\": 1, \"Number of Years\": 1, \"Max Set Size\": 499, \"Median Set Size\": 315}, {\"Color\": \"Chrome Pink\", \"Number of Unique Pieces\": 8, \"Number of Unique Sets\": 21, \"Number of Unique Themes\": 2, \"Number of Years\": 7, \"Max Set Size\": 231, \"Median Set Size\": 70}, {\"Color\": \"Chrome Silver\", \"Number of Unique Pieces\": 70, \"Number of Unique Sets\": 355, \"Number of Unique Themes\": 94, \"Number of Years\": 25, \"Max Set Size\": 3807, \"Median Set Size\": 184}, {\"Color\": \"Copper\", \"Number of Unique Pieces\": 25, \"Number of Unique Sets\": 51, \"Number of Unique Themes\": 17, \"Number of Years\": 11, \"Max Set Size\": 2455, \"Median Set Size\": 400}, {\"Color\": \"Dark Azure\", \"Number of Unique Pieces\": 173, \"Number of Unique Sets\": 200, \"Number of Unique Themes\": 57, \"Number of Years\": 7, \"Max Set Size\": 2741, \"Median Set Size\": 302}, {\"Color\": \"Dark Blue\", \"Number of Unique Pieces\": 752, \"Number of Unique Sets\": 988, \"Number of Unique Themes\": 202, \"Number of Years\": 17, \"Max Set Size\": 5461, \"Median Set Size\": 354}, {\"Color\": \"Dark Blue-Violet\", \"Number of Unique Pieces\": 4, \"Number of Unique Sets\": 3, \"Number of Unique Themes\": 2, \"Number of Years\": 2, \"Max Set Size\": 231, \"Median Set Size\": 142}, {\"Color\": \"Dark Bluish Gray\", \"Number of Unique Pieces\": 1511, \"Number of Unique Sets\": 3748, \"Number of Unique Themes\": 254, \"Number of Years\": 15, \"Max Set Size\": 5922, \"Median Set Size\": 448}, {\"Color\": \"Dark Brown\", \"Number of Unique Pieces\": 335, \"Number of Unique Sets\": 795, \"Number of Unique Themes\": 142, \"Number of Years\": 10, \"Max Set Size\": 4640, \"Median Set Size\": 414}, {\"Color\": \"Dark Flesh\", \"Number of Unique Pieces\": 40, \"Number of Unique Sets\": 31, \"Number of Unique Themes\": 20, \"Number of Years\": 6, \"Max Set Size\": 2844, \"Median Set Size\": 48}, {\"Color\": \"Dark Gray\", \"Number of Unique Pieces\": 823, \"Number of Unique Sets\": 1501, \"Number of Unique Themes\": 161, \"Number of Years\": 33, \"Max Set Size\": 3115, \"Median Set Size\": 249}, {\"Color\": \"Dark Green\", \"Number of Unique Pieces\": 440, \"Number of Unique Sets\": 532, \"Number of Unique Themes\": 155, \"Number of Years\": 15, \"Max Set Size\": 4640, \"Median Set Size\": 378}, {\"Color\": \"Dark Orange\", \"Number of Unique Pieces\": 344, \"Number of Unique Sets\": 668, \"Number of Unique Themes\": 144, \"Number of Years\": 19, \"Max Set Size\": 4640, \"Median Set Size\": 293}, {\"Color\": \"Dark Pink\", \"Number of Unique Pieces\": 310, \"Number of Unique Sets\": 521, \"Number of Unique Themes\": 72, \"Number of Years\": 24, \"Max Set Size\": 5200, \"Median Set Size\": 142}, {\"Color\": \"Dark Purple\", \"Number of Unique Pieces\": 417, \"Number of Unique Sets\": 496, \"Number of Unique Themes\": 94, \"Number of Years\": 14, \"Max Set Size\": 4640, \"Median Set Size\": 252}, {\"Color\": \"Dark Red\", \"Number of Unique Pieces\": 765, \"Number of Unique Sets\": 974, \"Number of Unique Themes\": 195, \"Number of Years\": 17, \"Max Set Size\": 5922, \"Median Set Size\": 413}, {\"Color\": \"Dark Tan\", \"Number of Unique Pieces\": 466, \"Number of Unique Sets\": 1131, \"Number of Unique Themes\": 167, \"Number of Years\": 16, \"Max Set Size\": 4640, \"Median Set Size\": 472}, {\"Color\": \"Dark Turquoise\", \"Number of Unique Pieces\": 131, \"Number of Unique Sets\": 98, \"Number of Unique Themes\": 27, \"Number of Years\": 10, \"Max Set Size\": 1712, \"Median Set Size\": 327}, {\"Color\": \"Earth Orange\", \"Number of Unique Pieces\": 28, \"Number of Unique Sets\": 55, \"Number of Unique Themes\": 21, \"Number of Years\": 16, \"Max Set Size\": 1574, \"Median Set Size\": 94}, {\"Color\": \"Fabuland Brown\", \"Number of Unique Pieces\": 7, \"Number of Unique Sets\": 19, \"Number of Unique Themes\": 6, \"Number of Years\": 8, \"Max Set Size\": 153, \"Median Set Size\": 51}, {\"Color\": \"Flat Dark Gold\", \"Number of Unique Pieces\": 27, \"Number of Unique Sets\": 33, \"Number of Unique Themes\": 11, \"Number of Years\": 5, \"Max Set Size\": 987, \"Median Set Size\": 51}, {\"Color\": \"Flat Silver\", \"Number of Unique Pieces\": 584, \"Number of Unique Sets\": 1436, \"Number of Unique Themes\": 201, \"Number of Years\": 18, \"Max Set Size\": 4640, \"Median Set Size\": 257}, {\"Color\": \"Flesh\", \"Number of Unique Pieces\": 54, \"Number of Unique Sets\": 62, \"Number of Unique Themes\": 36, \"Number of Years\": 12, \"Max Set Size\": 2530, \"Median Set Size\": 267}, {\"Color\": \"Glitter Trans-Clear\", \"Number of Unique Pieces\": 11, \"Number of Unique Sets\": 12, \"Number of Unique Themes\": 7, \"Number of Years\": 6, \"Max Set Size\": 516, \"Median Set Size\": 93}, {\"Color\": \"Glitter Trans-Dark Pink\", \"Number of Unique Pieces\": 11, \"Number of Unique Sets\": 31, \"Number of Unique Themes\": 9, \"Number of Years\": 11, \"Max Set Size\": 1229, \"Median Set Size\": 82}, {\"Color\": \"Glitter Trans-Light Blue\", \"Number of Unique Pieces\": 8, \"Number of Unique Sets\": 10, \"Number of Unique Themes\": 4, \"Number of Years\": 3, \"Max Set Size\": 1013, \"Median Set Size\": 475}, {\"Color\": \"Glitter Trans-Neon Green\", \"Number of Unique Pieces\": 1, \"Number of Unique Sets\": 5, \"Number of Unique Themes\": 3, \"Number of Years\": 2, \"Max Set Size\": 1573, \"Median Set Size\": 275}, {\"Color\": \"Glitter Trans-Purple\", \"Number of Unique Pieces\": 6, \"Number of Unique Sets\": 16, \"Number of Unique Themes\": 7, \"Number of Years\": 5, \"Max Set Size\": 700, \"Median Set Size\": 142}, {\"Color\": \"Glow In Dark Opaque\", \"Number of Unique Pieces\": 34, \"Number of Unique Sets\": 76, \"Number of Unique Themes\": 32, \"Number of Years\": 19, \"Max Set Size\": 871, \"Median Set Size\": 169}, {\"Color\": \"Glow In Dark Trans\", \"Number of Unique Pieces\": 8, \"Number of Unique Sets\": 19, \"Number of Unique Themes\": 8, \"Number of Years\": 6, \"Max Set Size\": 2031, \"Median Set Size\": 126}, {\"Color\": \"Glow in Dark White\", \"Number of Unique Pieces\": 28, \"Number of Unique Sets\": 43, \"Number of Unique Themes\": 22, \"Number of Years\": 7, \"Max Set Size\": 2062, \"Median Set Size\": 435}, {\"Color\": \"Green\", \"Number of Unique Pieces\": 1014, \"Number of Unique Sets\": 2963, \"Number of Unique Themes\": 271, \"Number of Years\": 62, \"Max Set Size\": 5200, \"Median Set Size\": 287}, {\"Color\": \"Lavender\", \"Number of Unique Pieces\": 83, \"Number of Unique Sets\": 136, \"Number of Unique Themes\": 28, \"Number of Years\": 7, \"Max Set Size\": 4009, \"Median Set Size\": 281}, {\"Color\": \"Light Aqua\", \"Number of Unique Pieces\": 128, \"Number of Unique Sets\": 124, \"Number of Unique Themes\": 36, \"Number of Years\": 7, \"Max Set Size\": 4009, \"Median Set Size\": 291}, {\"Color\": \"Light Blue\", \"Number of Unique Pieces\": 23, \"Number of Unique Sets\": 28, \"Number of Unique Themes\": 9, \"Number of Years\": 11, \"Max Set Size\": 4640, \"Median Set Size\": 33}, {\"Color\": \"Light Bluish Gray\", \"Number of Unique Pieces\": 1589, \"Number of Unique Sets\": 3971, \"Number of Unique Themes\": 254, \"Number of Years\": 16, \"Max Set Size\": 5922, \"Median Set Size\": 462}, {\"Color\": \"Light Flesh\", \"Number of Unique Pieces\": 758, \"Number of Unique Sets\": 813, \"Number of Unique Themes\": 75, \"Number of Years\": 15, \"Max Set Size\": 5195, \"Median Set Size\": 334}, {\"Color\": \"Light Gray\", \"Number of Unique Pieces\": 1350, \"Number of Unique Sets\": 2842, \"Number of Unique Themes\": 188, \"Number of Years\": 56, \"Max Set Size\": 3115, \"Median Set Size\": 271}, {\"Color\": \"Light Green\", \"Number of Unique Pieces\": 41, \"Number of Unique Sets\": 40, \"Number of Unique Themes\": 12, \"Number of Years\": 15, \"Max Set Size\": 1017, \"Median Set Size\": 90}, {\"Color\": \"Light Lime\", \"Number of Unique Pieces\": 10, \"Number of Unique Sets\": 8, \"Number of Unique Themes\": 4, \"Number of Years\": 5, \"Max Set Size\": 675, \"Median Set Size\": 191}, {\"Color\": \"Light Orange\", \"Number of Unique Pieces\": 7, \"Number of Unique Sets\": 9, \"Number of Unique Themes\": 4, \"Number of Years\": 4, \"Max Set Size\": 1505, \"Median Set Size\": 153}, {\"Color\": \"Light Pink\", \"Number of Unique Pieces\": 5, \"Number of Unique Sets\": 11, \"Number of Unique Themes\": 6, \"Number of Years\": 9, \"Max Set Size\": 328, \"Median Set Size\": 92}, {\"Color\": \"Light Purple\", \"Number of Unique Pieces\": 12, \"Number of Unique Sets\": 6, \"Number of Unique Themes\": 5, \"Number of Years\": 3, \"Max Set Size\": 4640, \"Median Set Size\": 500}, {\"Color\": \"Light Salmon\", \"Number of Unique Pieces\": 7, \"Number of Unique Sets\": 6, \"Number of Unique Themes\": 3, \"Number of Years\": 3, \"Max Set Size\": 113, \"Median Set Size\": 70}, {\"Color\": \"Light Turquoise\", \"Number of Unique Pieces\": 9, \"Number of Unique Sets\": 11, \"Number of Unique Themes\": 6, \"Number of Years\": 5, \"Max Set Size\": 153, \"Median Set Size\": 68}, {\"Color\": \"Light Violet\", \"Number of Unique Pieces\": 36, \"Number of Unique Sets\": 26, \"Number of Unique Themes\": 8, \"Number of Years\": 10, \"Max Set Size\": 328, \"Median Set Size\": 101}, {\"Color\": \"Light Yellow\", \"Number of Unique Pieces\": 59, \"Number of Unique Sets\": 44, \"Number of Unique Themes\": 11, \"Number of Years\": 15, \"Max Set Size\": 1305, \"Median Set Size\": 95}, {\"Color\": \"Lime\", \"Number of Unique Pieces\": 687, \"Number of Unique Sets\": 1244, \"Number of Unique Themes\": 184, \"Number of Years\": 22, \"Max Set Size\": 5200, \"Median Set Size\": 254}, {\"Color\": \"Maersk Blue\", \"Number of Unique Pieces\": 59, \"Number of Unique Sets\": 10, \"Number of Unique Themes\": 4, \"Number of Years\": 9, \"Max Set Size\": 1232, \"Median Set Size\": 982}, {\"Color\": \"Magenta\", \"Number of Unique Pieces\": 192, \"Number of Unique Sets\": 320, \"Number of Unique Themes\": 48, \"Number of Years\": 16, \"Max Set Size\": 4060, \"Median Set Size\": 262}, {\"Color\": \"Medium Azure\", \"Number of Unique Pieces\": 274, \"Number of Unique Sets\": 417, \"Number of Unique Themes\": 62, \"Number of Years\": 7, \"Max Set Size\": 4640, \"Median Set Size\": 232}, {\"Color\": \"Medium Blue\", \"Number of Unique Pieces\": 446, \"Number of Unique Sets\": 674, \"Number of Unique Themes\": 146, \"Number of Years\": 25, \"Max Set Size\": 5922, \"Median Set Size\": 320}, {\"Color\": \"Medium Dark Flesh\", \"Number of Unique Pieces\": 311, \"Number of Unique Sets\": 481, \"Number of Unique Themes\": 102, \"Number of Years\": 8, \"Max Set Size\": 4640, \"Median Set Size\": 397}, {\"Color\": \"Medium Dark Pink\", \"Number of Unique Pieces\": 3, \"Number of Unique Sets\": 2, \"Number of Unique Themes\": 1, \"Number of Years\": 1, \"Max Set Size\": 216, \"Median Set Size\": 176}, {\"Color\": \"Medium Green\", \"Number of Unique Pieces\": 49, \"Number of Unique Sets\": 38, \"Number of Unique Themes\": 11, \"Number of Years\": 11, \"Max Set Size\": 716, \"Median Set Size\": 108}, {\"Color\": \"Medium Lavender\", \"Number of Unique Pieces\": 170, \"Number of Unique Sets\": 227, \"Number of Unique Themes\": 43, \"Number of Years\": 7, \"Max Set Size\": 4060, \"Median Set Size\": 285}, {\"Color\": \"Medium Lime\", \"Number of Unique Pieces\": 21, \"Number of Unique Sets\": 19, \"Number of Unique Themes\": 7, \"Number of Years\": 6, \"Max Set Size\": 207, \"Median Set Size\": 102}, {\"Color\": \"Medium Orange\", \"Number of Unique Pieces\": 81, \"Number of Unique Sets\": 64, \"Number of Unique Themes\": 22, \"Number of Years\": 11, \"Max Set Size\": 1305, \"Median Set Size\": 153}, {\"Color\": \"Medium Violet\", \"Number of Unique Pieces\": 2, \"Number of Unique Sets\": 2, \"Number of Unique Themes\": 2, \"Number of Years\": 2, \"Max Set Size\": 500, \"Median Set Size\": 284}, {\"Color\": \"Metal Blue\", \"Number of Unique Pieces\": 29, \"Number of Unique Sets\": 16, \"Number of Unique Themes\": 5, \"Number of Years\": 4, \"Max Set Size\": 987, \"Median Set Size\": 379}, {\"Color\": \"Metallic Gold\", \"Number of Unique Pieces\": 50, \"Number of Unique Sets\": 153, \"Number of Unique Themes\": 66, \"Number of Years\": 17, \"Max Set Size\": 4640, \"Median Set Size\": 340}, {\"Color\": \"Metallic Green\", \"Number of Unique Pieces\": 11, \"Number of Unique Sets\": 5, \"Number of Unique Themes\": 3, \"Number of Years\": 2, \"Max Set Size\": 1100, \"Median Set Size\": 1100}, {\"Color\": \"Metallic Silver\", \"Number of Unique Pieces\": 103, \"Number of Unique Sets\": 442, \"Number of Unique Themes\": 95, \"Number of Years\": 26, \"Max Set Size\": 5195, \"Median Set Size\": 365}, {\"Color\": \"Milky White\", \"Number of Unique Pieces\": 22, \"Number of Unique Sets\": 77, \"Number of Unique Themes\": 29, \"Number of Years\": 27, \"Max Set Size\": 744, \"Median Set Size\": 120}, {\"Color\": \"Olive Green\", \"Number of Unique Pieces\": 232, \"Number of Unique Sets\": 204, \"Number of Unique Themes\": 64, \"Number of Years\": 6, \"Max Set Size\": 4009, \"Median Set Size\": 430}, {\"Color\": \"Orange\", \"Number of Unique Pieces\": 793, \"Number of Unique Sets\": 1721, \"Number of Unique Themes\": 214, \"Number of Years\": 21, \"Max Set Size\": 5461, \"Median Set Size\": 332}, {\"Color\": \"Pearl Dark Gray\", \"Number of Unique Pieces\": 312, \"Number of Unique Sets\": 576, \"Number of Unique Themes\": 123, \"Number of Years\": 16, \"Max Set Size\": 4060, \"Median Set Size\": 192}, {\"Color\": \"Pearl Gold\", \"Number of Unique Pieces\": 458, \"Number of Unique Sets\": 1044, \"Number of Unique Themes\": 158, \"Number of Years\": 14, \"Max Set Size\": 4640, \"Median Set Size\": 324}, {\"Color\": \"Pearl Light Gold\", \"Number of Unique Pieces\": 11, \"Number of Unique Sets\": 10, \"Number of Unique Themes\": 5, \"Number of Years\": 6, \"Max Set Size\": 1679, \"Median Set Size\": 176}, {\"Color\": \"Pearl Light Gray\", \"Number of Unique Pieces\": 327, \"Number of Unique Sets\": 503, \"Number of Unique Themes\": 115, \"Number of Years\": 15, \"Max Set Size\": 3807, \"Median Set Size\": 200}, {\"Color\": \"Pearl Very Light Gray\", \"Number of Unique Pieces\": 3, \"Number of Unique Sets\": 4, \"Number of Unique Themes\": 3, \"Number of Years\": 2, \"Max Set Size\": 68, \"Median Set Size\": 45}, {\"Color\": \"Pearl White\", \"Number of Unique Pieces\": 11, \"Number of Unique Sets\": 7, \"Number of Unique Themes\": 3, \"Number of Years\": 3, \"Max Set Size\": 401, \"Median Set Size\": 66}, {\"Color\": \"Pink\", \"Number of Unique Pieces\": 117, \"Number of Unique Sets\": 99, \"Number of Unique Themes\": 15, \"Number of Years\": 16, \"Max Set Size\": 805, \"Median Set Size\": 135}, {\"Color\": \"Purple\", \"Number of Unique Pieces\": 103, \"Number of Unique Sets\": 104, \"Number of Unique Themes\": 26, \"Number of Years\": 13, \"Max Set Size\": 4640, \"Median Set Size\": 226}, {\"Color\": \"Red\", \"Number of Unique Pieces\": 2863, \"Number of Unique Sets\": 6469, \"Number of Unique Themes\": 350, \"Number of Years\": 66, \"Max Set Size\": 5922, \"Median Set Size\": 291}, {\"Color\": \"Reddish Brown\", \"Number of Unique Pieces\": 938, \"Number of Unique Sets\": 2121, \"Number of Unique Themes\": 202, \"Number of Years\": 16, \"Max Set Size\": 5922, \"Median Set Size\": 440}, {\"Color\": \"Royal Blue\", \"Number of Unique Pieces\": 197, \"Number of Unique Sets\": 169, \"Number of Unique Themes\": 52, \"Number of Years\": 35, \"Max Set Size\": 5195, \"Median Set Size\": 48}, {\"Color\": \"Rust\", \"Number of Unique Pieces\": 4, \"Number of Unique Sets\": 4, \"Number of Unique Themes\": 3, \"Number of Years\": 3, \"Max Set Size\": 420, \"Median Set Size\": 96}, {\"Color\": \"Salmon\", \"Number of Unique Pieces\": 3, \"Number of Unique Sets\": 2, \"Number of Unique Themes\": 1, \"Number of Years\": 2, \"Max Set Size\": 28, \"Median Set Size\": 28}, {\"Color\": \"Sand Blue\", \"Number of Unique Pieces\": 310, \"Number of Unique Sets\": 267, \"Number of Unique Themes\": 94, \"Number of Years\": 17, \"Max Set Size\": 4009, \"Median Set Size\": 303}, {\"Color\": \"Sand Green\", \"Number of Unique Pieces\": 306, \"Number of Unique Sets\": 293, \"Number of Unique Themes\": 94, \"Number of Years\": 18, \"Max Set Size\": 4640, \"Median Set Size\": 471}, {\"Color\": \"Sand Purple\", \"Number of Unique Pieces\": 14, \"Number of Unique Sets\": 5, \"Number of Unique Themes\": 3, \"Number of Years\": 2, \"Max Set Size\": 716, \"Median Set Size\": 716}, {\"Color\": \"Sand Red\", \"Number of Unique Pieces\": 32, \"Number of Unique Sets\": 17, \"Number of Unique Themes\": 6, \"Number of Years\": 4, \"Max Set Size\": 805, \"Median Set Size\": 194}, {\"Color\": \"Sky Blue\", \"Number of Unique Pieces\": 13, \"Number of Unique Sets\": 7, \"Number of Unique Themes\": 3, \"Number of Years\": 2, \"Max Set Size\": 207, \"Median Set Size\": 94}, {\"Color\": \"Speckle Black-Copper\", \"Number of Unique Pieces\": 4, \"Number of Unique Sets\": 3, \"Number of Unique Themes\": 1, \"Number of Years\": 1, \"Max Set Size\": 437, \"Median Set Size\": 44}, {\"Color\": \"Speckle Black-Gold\", \"Number of Unique Pieces\": 2, \"Number of Unique Sets\": 4, \"Number of Unique Themes\": 1, \"Number of Years\": 2, \"Max Set Size\": 1009, \"Median Set Size\": 686}, {\"Color\": \"Speckle Black-Silver\", \"Number of Unique Pieces\": 12, \"Number of Unique Sets\": 47, \"Number of Unique Themes\": 15, \"Number of Years\": 9, \"Max Set Size\": 2455, \"Median Set Size\": 364}, {\"Color\": \"Speckle DBGray-Silver\", \"Number of Unique Pieces\": 5, \"Number of Unique Sets\": 6, \"Number of Unique Themes\": 1, \"Number of Years\": 1, \"Max Set Size\": 437, \"Median Set Size\": 86}, {\"Color\": \"Tan\", \"Number of Unique Pieces\": 1040, \"Number of Unique Sets\": 2593, \"Number of Unique Themes\": 256, \"Number of Years\": 24, \"Max Set Size\": 5922, \"Median Set Size\": 437}, {\"Color\": \"Trans Light Royal Blue\", \"Number of Unique Pieces\": 1, \"Number of Unique Sets\": 1, \"Number of Unique Themes\": 1, \"Number of Years\": 1, \"Max Set Size\": 66, \"Median Set Size\": 66}, {\"Color\": \"Trans-Black\", \"Number of Unique Pieces\": 199, \"Number of Unique Sets\": 1205, \"Number of Unique Themes\": 158, \"Number of Years\": 19, \"Max Set Size\": 4640, \"Median Set Size\": 279}, {\"Color\": \"Trans-Bright Green\", \"Number of Unique Pieces\": 109, \"Number of Unique Sets\": 258, \"Number of Unique Themes\": 64, \"Number of Years\": 12, \"Max Set Size\": 4640, \"Median Set Size\": 216}, {\"Color\": \"Trans-Clear\", \"Number of Unique Pieces\": 469, \"Number of Unique Sets\": 3256, \"Number of Unique Themes\": 259, \"Number of Years\": 65, \"Max Set Size\": 5922, \"Median Set Size\": 289}, {\"Color\": \"Trans-Dark Blue\", \"Number of Unique Pieces\": 179, \"Number of Unique Sets\": 1283, \"Number of Unique Themes\": 206, \"Number of Years\": 40, \"Max Set Size\": 5195, \"Median Set Size\": 243}, {\"Color\": \"Trans-Dark Pink\", \"Number of Unique Pieces\": 149, \"Number of Unique Sets\": 356, \"Number of Unique Themes\": 68, \"Number of Years\": 19, \"Max Set Size\": 5200, \"Median Set Size\": 95}, {\"Color\": \"Trans-Green\", \"Number of Unique Pieces\": 113, \"Number of Unique Sets\": 1104, \"Number of Unique Themes\": 214, \"Number of Years\": 41, \"Max Set Size\": 4640, \"Median Set Size\": 252}, {\"Color\": \"Trans-Light Blue\", \"Number of Unique Pieces\": 360, \"Number of Unique Sets\": 1685, \"Number of Unique Themes\": 209, \"Number of Years\": 33, \"Max Set Size\": 4640, \"Median Set Size\": 241}, {\"Color\": \"Trans-Light Purple\", \"Number of Unique Pieces\": 10, \"Number of Unique Sets\": 10, \"Number of Unique Themes\": 2, \"Number of Years\": 2, \"Max Set Size\": 266, \"Median Set Size\": 16}, {\"Color\": \"Trans-Medium Blue\", \"Number of Unique Pieces\": 88, \"Number of Unique Sets\": 178, \"Number of Unique Themes\": 73, \"Number of Years\": 17, \"Max Set Size\": 4640, \"Median Set Size\": 153}, {\"Color\": \"Trans-Neon Green\", \"Number of Unique Pieces\": 159, \"Number of Unique Sets\": 935, \"Number of Unique Themes\": 193, \"Number of Years\": 28, \"Max Set Size\": 4640, \"Median Set Size\": 207}, {\"Color\": \"Trans-Neon Orange\", \"Number of Unique Pieces\": 198, \"Number of Unique Sets\": 979, \"Number of Unique Themes\": 205, \"Number of Years\": 25, \"Max Set Size\": 4640, \"Median Set Size\": 200}, {\"Color\": \"Trans-Neon Yellow\", \"Number of Unique Pieces\": 1, \"Number of Unique Sets\": 7, \"Number of Unique Themes\": 5, \"Number of Years\": 3, \"Max Set Size\": 226, \"Median Set Size\": 36}, {\"Color\": \"Trans-Orange\", \"Number of Unique Pieces\": 116, \"Number of Unique Sets\": 1049, \"Number of Unique Themes\": 152, \"Number of Years\": 15, \"Max Set Size\": 4640, \"Median Set Size\": 311}, {\"Color\": \"Trans-Pink\", \"Number of Unique Pieces\": 42, \"Number of Unique Sets\": 29, \"Number of Unique Themes\": 1, \"Number of Years\": 4, \"Max Set Size\": 152, \"Median Set Size\": 66}, {\"Color\": \"Trans-Purple\", \"Number of Unique Pieces\": 108, \"Number of Unique Sets\": 205, \"Number of Unique Themes\": 54, \"Number of Years\": 18, \"Max Set Size\": 4060, \"Median Set Size\": 265}, {\"Color\": \"Trans-Red\", \"Number of Unique Pieces\": 148, \"Number of Unique Sets\": 2736, \"Number of Unique Themes\": 267, \"Number of Years\": 42, \"Max Set Size\": 5200, \"Median Set Size\": 268}, {\"Color\": \"Trans-Very Lt Blue\", \"Number of Unique Pieces\": 24, \"Number of Unique Sets\": 25, \"Number of Unique Themes\": 2, \"Number of Years\": 4, \"Max Set Size\": 152, \"Median Set Size\": 71}, {\"Color\": \"Trans-Yellow\", \"Number of Unique Pieces\": 148, \"Number of Unique Sets\": 1794, \"Number of Unique Themes\": 216, \"Number of Years\": 41, \"Max Set Size\": 5200, \"Median Set Size\": 246}, {\"Color\": \"Unknown\", \"Number of Unique Pieces\": 42, \"Number of Unique Sets\": 70, \"Number of Unique Themes\": 27, \"Number of Years\": 26, \"Max Set Size\": 2286, \"Median Set Size\": 159}, {\"Color\": \"Very Light Bluish Gray\", \"Number of Unique Pieces\": 50, \"Number of Unique Sets\": 42, \"Number of Unique Themes\": 8, \"Number of Years\": 7, \"Max Set Size\": 2448, \"Median Set Size\": 434}, {\"Color\": \"Very Light Gray\", \"Number of Unique Pieces\": 2, \"Number of Unique Sets\": 2, \"Number of Unique Themes\": 2, \"Number of Years\": 2, \"Max Set Size\": 861, \"Median Set Size\": 833}, {\"Color\": \"Very Light Orange\", \"Number of Unique Pieces\": 2, \"Number of Unique Sets\": 2, \"Number of Unique Themes\": 2, \"Number of Years\": 2, \"Max Set Size\": 132, \"Median Set Size\": 83}, {\"Color\": \"Violet\", \"Number of Unique Pieces\": 40, \"Number of Unique Sets\": 31, \"Number of Unique Themes\": 9, \"Number of Years\": 6, \"Max Set Size\": 696, \"Median Set Size\": 78}, {\"Color\": \"White\", \"Number of Unique Pieces\": 4693, \"Number of Unique Sets\": 6801, \"Number of Unique Themes\": 363, \"Number of Years\": 66, \"Max Set Size\": 5922, \"Median Set Size\": 293}, {\"Color\": \"Yellow\", \"Number of Unique Pieces\": 2918, \"Number of Unique Sets\": 6359, \"Number of Unique Themes\": 332, \"Number of Years\": 64, \"Max Set Size\": 5922, \"Median Set Size\": 277}, {\"Color\": \"Yellowish Green\", \"Number of Unique Pieces\": 57, \"Number of Unique Sets\": 65, \"Number of Unique Themes\": 18, \"Number of Years\": 5, \"Max Set Size\": 2741, \"Median Set Size\": 471}]}}, {\"mode\": \"vega-lite\"});\n",
              "</script>"
            ]
          },
          "metadata": {},
          "execution_count": 104
        }
      ]
    },
    {
      "cell_type": "markdown",
      "metadata": {
        "id": "8aHdqHMbh9m-"
      },
      "source": [
        "**(File 2) LEGO Colors by Set** — Contains data on the colors of the pieces in each LEGO set.\n",
        "\n",
        "- Set Num = A unique alphanumeric ID number for each set. \n",
        "- Set Name = The official name of the set (some names are reused for more than one set).\n",
        "- Year = The year the set was released.\n",
        "- Num Parts = Total number of parts listed on the box.\n",
        "- [Colors] = Number of parts of each color in the set, according to the Rebrickable database.\n",
        "\n",
        "You can also get more data about individual sets by going to http://rebrickable.com/sets/{SetNum}"
      ]
    },
    {
      "cell_type": "code",
      "execution_count": 105,
      "metadata": {
        "id": "iV4Gvv4Mh9m-",
        "colab": {
          "base_uri": "https://localhost:8080/",
          "height": 279
        },
        "outputId": "5c23cb1c-d724-4463-d7f4-c7269db04ae8"
      },
      "outputs": [
        {
          "output_type": "execute_result",
          "data": {
            "text/html": [
              "\n",
              "  <div id=\"df-30666fe9-f84c-4165-931b-ebb8ce2ee1cb\">\n",
              "    <div class=\"colab-df-container\">\n",
              "      <div>\n",
              "<style scoped>\n",
              "    .dataframe tbody tr th:only-of-type {\n",
              "        vertical-align: middle;\n",
              "    }\n",
              "\n",
              "    .dataframe tbody tr th {\n",
              "        vertical-align: top;\n",
              "    }\n",
              "\n",
              "    .dataframe thead th {\n",
              "        text-align: right;\n",
              "    }\n",
              "</style>\n",
              "<table border=\"1\" class=\"dataframe\">\n",
              "  <thead>\n",
              "    <tr style=\"text-align: right;\">\n",
              "      <th></th>\n",
              "      <th>Set Num</th>\n",
              "      <th>Set Name</th>\n",
              "      <th>Year</th>\n",
              "      <th>Num Parts</th>\n",
              "      <th>[No Color]</th>\n",
              "      <th>Aqua</th>\n",
              "      <th>Black</th>\n",
              "      <th>Blue</th>\n",
              "      <th>Blue-Violet</th>\n",
              "      <th>Bright Green</th>\n",
              "      <th>...</th>\n",
              "      <th>Trans-Very Lt Blue</th>\n",
              "      <th>Trans-Yellow</th>\n",
              "      <th>Unknown</th>\n",
              "      <th>Very Light Bluish Gray</th>\n",
              "      <th>Very Light Gray</th>\n",
              "      <th>Very Light Orange</th>\n",
              "      <th>Violet</th>\n",
              "      <th>White</th>\n",
              "      <th>Yellow</th>\n",
              "      <th>Yellowish Green</th>\n",
              "    </tr>\n",
              "  </thead>\n",
              "  <tbody>\n",
              "    <tr>\n",
              "      <th>0</th>\n",
              "      <td>2015775</td>\n",
              "      <td>Dragon Fortress</td>\n",
              "      <td>2003</td>\n",
              "      <td>741</td>\n",
              "      <td>39.0</td>\n",
              "      <td>0.0</td>\n",
              "      <td>199.0</td>\n",
              "      <td>0.0</td>\n",
              "      <td>0.0</td>\n",
              "      <td>0.0</td>\n",
              "      <td>...</td>\n",
              "      <td>0.0</td>\n",
              "      <td>8.0</td>\n",
              "      <td>0.0</td>\n",
              "      <td>0.0</td>\n",
              "      <td>0.0</td>\n",
              "      <td>0.0</td>\n",
              "      <td>0.0</td>\n",
              "      <td>5.0</td>\n",
              "      <td>14.0</td>\n",
              "      <td>0.0</td>\n",
              "    </tr>\n",
              "    <tr>\n",
              "      <th>1</th>\n",
              "      <td>2015410</td>\n",
              "      <td>Scorpion Palace</td>\n",
              "      <td>2003</td>\n",
              "      <td>354</td>\n",
              "      <td>25.0</td>\n",
              "      <td>0.0</td>\n",
              "      <td>45.0</td>\n",
              "      <td>4.0</td>\n",
              "      <td>0.0</td>\n",
              "      <td>2.0</td>\n",
              "      <td>...</td>\n",
              "      <td>0.0</td>\n",
              "      <td>3.0</td>\n",
              "      <td>0.0</td>\n",
              "      <td>0.0</td>\n",
              "      <td>0.0</td>\n",
              "      <td>0.0</td>\n",
              "      <td>0.0</td>\n",
              "      <td>89.0</td>\n",
              "      <td>20.0</td>\n",
              "      <td>0.0</td>\n",
              "    </tr>\n",
              "    <tr>\n",
              "      <th>2</th>\n",
              "      <td>1089-1</td>\n",
              "      <td>Lego Basic Figures - 24 elements</td>\n",
              "      <td>1985</td>\n",
              "      <td>24</td>\n",
              "      <td>24.0</td>\n",
              "      <td>0.0</td>\n",
              "      <td>0.0</td>\n",
              "      <td>0.0</td>\n",
              "      <td>0.0</td>\n",
              "      <td>0.0</td>\n",
              "      <td>...</td>\n",
              "      <td>0.0</td>\n",
              "      <td>0.0</td>\n",
              "      <td>0.0</td>\n",
              "      <td>0.0</td>\n",
              "      <td>0.0</td>\n",
              "      <td>0.0</td>\n",
              "      <td>0.0</td>\n",
              "      <td>0.0</td>\n",
              "      <td>0.0</td>\n",
              "      <td>0.0</td>\n",
              "    </tr>\n",
              "    <tr>\n",
              "      <th>3</th>\n",
              "      <td>2015045</td>\n",
              "      <td>Temple of Mount Everest</td>\n",
              "      <td>2003</td>\n",
              "      <td>288</td>\n",
              "      <td>24.0</td>\n",
              "      <td>0.0</td>\n",
              "      <td>67.0</td>\n",
              "      <td>0.0</td>\n",
              "      <td>0.0</td>\n",
              "      <td>0.0</td>\n",
              "      <td>...</td>\n",
              "      <td>0.0</td>\n",
              "      <td>1.0</td>\n",
              "      <td>0.0</td>\n",
              "      <td>0.0</td>\n",
              "      <td>0.0</td>\n",
              "      <td>0.0</td>\n",
              "      <td>0.0</td>\n",
              "      <td>21.0</td>\n",
              "      <td>26.0</td>\n",
              "      <td>0.0</td>\n",
              "    </tr>\n",
              "    <tr>\n",
              "      <th>4</th>\n",
              "      <td>2823692</td>\n",
              "      <td>Simple and Motorized Machines Activity Pack</td>\n",
              "      <td>1997</td>\n",
              "      <td>24</td>\n",
              "      <td>24.0</td>\n",
              "      <td>0.0</td>\n",
              "      <td>0.0</td>\n",
              "      <td>0.0</td>\n",
              "      <td>0.0</td>\n",
              "      <td>0.0</td>\n",
              "      <td>...</td>\n",
              "      <td>0.0</td>\n",
              "      <td>0.0</td>\n",
              "      <td>0.0</td>\n",
              "      <td>0.0</td>\n",
              "      <td>0.0</td>\n",
              "      <td>0.0</td>\n",
              "      <td>0.0</td>\n",
              "      <td>0.0</td>\n",
              "      <td>0.0</td>\n",
              "      <td>0.0</td>\n",
              "    </tr>\n",
              "  </tbody>\n",
              "</table>\n",
              "<p>5 rows × 135 columns</p>\n",
              "</div>\n",
              "      <button class=\"colab-df-convert\" onclick=\"convertToInteractive('df-30666fe9-f84c-4165-931b-ebb8ce2ee1cb')\"\n",
              "              title=\"Convert this dataframe to an interactive table.\"\n",
              "              style=\"display:none;\">\n",
              "        \n",
              "  <svg xmlns=\"http://www.w3.org/2000/svg\" height=\"24px\"viewBox=\"0 0 24 24\"\n",
              "       width=\"24px\">\n",
              "    <path d=\"M0 0h24v24H0V0z\" fill=\"none\"/>\n",
              "    <path d=\"M18.56 5.44l.94 2.06.94-2.06 2.06-.94-2.06-.94-.94-2.06-.94 2.06-2.06.94zm-11 1L8.5 8.5l.94-2.06 2.06-.94-2.06-.94L8.5 2.5l-.94 2.06-2.06.94zm10 10l.94 2.06.94-2.06 2.06-.94-2.06-.94-.94-2.06-.94 2.06-2.06.94z\"/><path d=\"M17.41 7.96l-1.37-1.37c-.4-.4-.92-.59-1.43-.59-.52 0-1.04.2-1.43.59L10.3 9.45l-7.72 7.72c-.78.78-.78 2.05 0 2.83L4 21.41c.39.39.9.59 1.41.59.51 0 1.02-.2 1.41-.59l7.78-7.78 2.81-2.81c.8-.78.8-2.07 0-2.86zM5.41 20L4 18.59l7.72-7.72 1.47 1.35L5.41 20z\"/>\n",
              "  </svg>\n",
              "      </button>\n",
              "      \n",
              "  <style>\n",
              "    .colab-df-container {\n",
              "      display:flex;\n",
              "      flex-wrap:wrap;\n",
              "      gap: 12px;\n",
              "    }\n",
              "\n",
              "    .colab-df-convert {\n",
              "      background-color: #E8F0FE;\n",
              "      border: none;\n",
              "      border-radius: 50%;\n",
              "      cursor: pointer;\n",
              "      display: none;\n",
              "      fill: #1967D2;\n",
              "      height: 32px;\n",
              "      padding: 0 0 0 0;\n",
              "      width: 32px;\n",
              "    }\n",
              "\n",
              "    .colab-df-convert:hover {\n",
              "      background-color: #E2EBFA;\n",
              "      box-shadow: 0px 1px 2px rgba(60, 64, 67, 0.3), 0px 1px 3px 1px rgba(60, 64, 67, 0.15);\n",
              "      fill: #174EA6;\n",
              "    }\n",
              "\n",
              "    [theme=dark] .colab-df-convert {\n",
              "      background-color: #3B4455;\n",
              "      fill: #D2E3FC;\n",
              "    }\n",
              "\n",
              "    [theme=dark] .colab-df-convert:hover {\n",
              "      background-color: #434B5C;\n",
              "      box-shadow: 0px 1px 3px 1px rgba(0, 0, 0, 0.15);\n",
              "      filter: drop-shadow(0px 1px 2px rgba(0, 0, 0, 0.3));\n",
              "      fill: #FFFFFF;\n",
              "    }\n",
              "  </style>\n",
              "\n",
              "      <script>\n",
              "        const buttonEl =\n",
              "          document.querySelector('#df-30666fe9-f84c-4165-931b-ebb8ce2ee1cb button.colab-df-convert');\n",
              "        buttonEl.style.display =\n",
              "          google.colab.kernel.accessAllowed ? 'block' : 'none';\n",
              "\n",
              "        async function convertToInteractive(key) {\n",
              "          const element = document.querySelector('#df-30666fe9-f84c-4165-931b-ebb8ce2ee1cb');\n",
              "          const dataTable =\n",
              "            await google.colab.kernel.invokeFunction('convertToInteractive',\n",
              "                                                     [key], {});\n",
              "          if (!dataTable) return;\n",
              "\n",
              "          const docLinkHtml = 'Like what you see? Visit the ' +\n",
              "            '<a target=\"_blank\" href=https://colab.research.google.com/notebooks/data_table.ipynb>data table notebook</a>'\n",
              "            + ' to learn more about interactive tables.';\n",
              "          element.innerHTML = '';\n",
              "          dataTable['output_type'] = 'display_data';\n",
              "          await google.colab.output.renderOutput(dataTable, element);\n",
              "          const docLink = document.createElement('div');\n",
              "          docLink.innerHTML = docLinkHtml;\n",
              "          element.appendChild(docLink);\n",
              "        }\n",
              "      </script>\n",
              "    </div>\n",
              "  </div>\n",
              "  "
            ],
            "text/plain": [
              "   Set Num                                     Set Name  Year  Num Parts  \\\n",
              "0  2015775                              Dragon Fortress  2003        741   \n",
              "1  2015410                              Scorpion Palace  2003        354   \n",
              "2   1089-1             Lego Basic Figures - 24 elements  1985         24   \n",
              "3  2015045                      Temple of Mount Everest  2003        288   \n",
              "4  2823692  Simple and Motorized Machines Activity Pack  1997         24   \n",
              "\n",
              "   [No Color]  Aqua  Black  Blue  Blue-Violet  Bright Green  ...  \\\n",
              "0        39.0   0.0  199.0   0.0          0.0           0.0  ...   \n",
              "1        25.0   0.0   45.0   4.0          0.0           2.0  ...   \n",
              "2        24.0   0.0    0.0   0.0          0.0           0.0  ...   \n",
              "3        24.0   0.0   67.0   0.0          0.0           0.0  ...   \n",
              "4        24.0   0.0    0.0   0.0          0.0           0.0  ...   \n",
              "\n",
              "   Trans-Very Lt Blue  Trans-Yellow  Unknown  Very Light Bluish Gray  \\\n",
              "0                 0.0           8.0      0.0                     0.0   \n",
              "1                 0.0           3.0      0.0                     0.0   \n",
              "2                 0.0           0.0      0.0                     0.0   \n",
              "3                 0.0           1.0      0.0                     0.0   \n",
              "4                 0.0           0.0      0.0                     0.0   \n",
              "\n",
              "   Very Light Gray  Very Light Orange  Violet  White  Yellow  Yellowish Green  \n",
              "0              0.0                0.0     0.0    5.0    14.0              0.0  \n",
              "1              0.0                0.0     0.0   89.0    20.0              0.0  \n",
              "2              0.0                0.0     0.0    0.0     0.0              0.0  \n",
              "3              0.0                0.0     0.0   21.0    26.0              0.0  \n",
              "4              0.0                0.0     0.0    0.0     0.0              0.0  \n",
              "\n",
              "[5 rows x 135 columns]"
            ]
          },
          "metadata": {},
          "execution_count": 105
        }
      ],
      "source": [
        "set_colors_url = 'https://drive.google.com/uc?export=download&id=1zFi7sNXbl_mlPNnBSkkVNryQZqdcOCR5'\n",
        "set_colors = pd.read_excel(set_colors_url)\n",
        "set_colors.fillna(0,inplace=True)\n",
        "set_colors.head()"
      ]
    },
    {
      "cell_type": "code",
      "source": [
        "# Names of the color columns in one array\n",
        "color_column_names = set_colors.columns.values[4:]\n",
        "color_column_names.size\n",
        "# color_column_names"
      ],
      "metadata": {
        "id": "k5p9SIFE6AwE",
        "colab": {
          "base_uri": "https://localhost:8080/"
        },
        "outputId": "0e97fce0-aa7b-44a1-ded4-a91b48dbee00"
      },
      "execution_count": 106,
      "outputs": [
        {
          "output_type": "execute_result",
          "data": {
            "text/plain": [
              "131"
            ]
          },
          "metadata": {},
          "execution_count": 106
        }
      ]
    },
    {
      "cell_type": "code",
      "source": [
        "# Over 10,000 sets and over 100 colors\n",
        "set_colors.shape"
      ],
      "metadata": {
        "id": "PVgNzYr3UIH0",
        "colab": {
          "base_uri": "https://localhost:8080/"
        },
        "outputId": "95442c3c-6f48-425a-8b8d-ac834948745b"
      },
      "execution_count": 107,
      "outputs": [
        {
          "output_type": "execute_result",
          "data": {
            "text/plain": [
              "(10713, 135)"
            ]
          },
          "metadata": {},
          "execution_count": 107
        }
      ]
    },
    {
      "cell_type": "code",
      "source": [
        "set_colors.columns.values[4:]"
      ],
      "metadata": {
        "id": "AGONmAEEXZUS",
        "colab": {
          "base_uri": "https://localhost:8080/"
        },
        "outputId": "9be81a62-fb45-4ced-b9c6-0ea9a07c930f"
      },
      "execution_count": 108,
      "outputs": [
        {
          "output_type": "execute_result",
          "data": {
            "text/plain": [
              "array(['[No Color]', 'Aqua', 'Black', 'Blue', 'Blue-Violet',\n",
              "       'Bright Green', 'Bright Light Blue', 'Bright Light Orange',\n",
              "       'Bright Light Yellow', 'Bright Pink', 'Brown',\n",
              "       'Chrome Antique Brass', 'Chrome Black', 'Chrome Blue',\n",
              "       'Chrome Gold', 'Chrome Green', 'Chrome Pink', 'Chrome Silver',\n",
              "       'Copper', 'Dark Azure', 'Dark Blue', 'Dark Blue-Violet',\n",
              "       'Dark Bluish Gray', 'Dark Brown', 'Dark Flesh', 'Dark Gray',\n",
              "       'Dark Green', 'Dark Orange', 'Dark Pink', 'Dark Purple',\n",
              "       'Dark Red', 'Dark Tan', 'Dark Turquoise', 'Earth Orange',\n",
              "       'Fabuland Brown', 'Flat Dark Gold', 'Flat Silver', 'Flesh',\n",
              "       'Glitter Trans-Clear', 'Glitter Trans-Dark Pink',\n",
              "       'Glitter Trans-Light Blue', 'Glitter Trans-Neon Green',\n",
              "       'Glitter Trans-Purple', 'Glow In Dark Opaque',\n",
              "       'Glow In Dark Trans', 'Glow in Dark White', 'Green', 'Lavender',\n",
              "       'Light Aqua', 'Light Blue', 'Light Bluish Gray', 'Light Flesh',\n",
              "       'Light Gray', 'Light Green', 'Light Lime', 'Light Orange',\n",
              "       'Light Pink', 'Light Purple', 'Light Salmon', 'Light Turquoise',\n",
              "       'Light Violet', 'Light Yellow', 'Lime', 'Maersk Blue', 'Magenta',\n",
              "       'Medium Azure', 'Medium Blue', 'Medium Dark Flesh',\n",
              "       'Medium Dark Pink', 'Medium Green', 'Medium Lavender',\n",
              "       'Medium Lime', 'Medium Orange', 'Medium Violet', 'Metal Blue',\n",
              "       'Metallic Gold', 'Metallic Green', 'Metallic Silver',\n",
              "       'Milky White', 'Olive Green', 'Orange', 'Pearl Dark Gray',\n",
              "       'Pearl Gold', 'Pearl Light Gold', 'Pearl Light Gray',\n",
              "       'Pearl Very Light Gray', 'Pearl White', 'Pink', 'Purple', 'Red',\n",
              "       'Reddish Brown', 'Royal Blue', 'Rust', 'Salmon', 'Sand Blue',\n",
              "       'Sand Green', 'Sand Purple', 'Sand Red', 'Sky Blue',\n",
              "       'Speckle Black-Copper', 'Speckle Black-Gold',\n",
              "       'Speckle Black-Silver', 'Speckle DBGray-Silver', 'Tan',\n",
              "       'Trans Light Royal Blue', 'Trans-Black', 'Trans-Bright Green',\n",
              "       'Trans-Clear', 'Trans-Dark Blue', 'Trans-Dark Pink', 'Trans-Green',\n",
              "       'Trans-Light Blue', 'Trans-Light Purple', 'Trans-Medium Blue',\n",
              "       'Trans-Neon Green', 'Trans-Neon Orange', 'Trans-Neon Yellow',\n",
              "       'Trans-Orange', 'Trans-Pink', 'Trans-Purple', 'Trans-Red',\n",
              "       'Trans-Very Lt Blue', 'Trans-Yellow', 'Unknown',\n",
              "       'Very Light Bluish Gray', 'Very Light Gray', 'Very Light Orange',\n",
              "       'Violet', 'White', 'Yellow', 'Yellowish Green'], dtype=object)"
            ]
          },
          "metadata": {},
          "execution_count": 108
        }
      ]
    },
    {
      "cell_type": "code",
      "source": [
        "set_colors[\"Agg\"] = set_colors[set_colors.columns.values[4:]].agg(\"sum\", axis=\"columns\")\n"
      ],
      "metadata": {
        "id": "k8RKo7FeXiYB"
      },
      "execution_count": 109,
      "outputs": []
    },
    {
      "cell_type": "code",
      "source": [
        "# set_colors[[\"Set Name\", \"Set Num\", \"Num Parts\", \"Agg\"]]"
      ],
      "metadata": {
        "id": "A1Z6rJoWYPlW"
      },
      "execution_count": 110,
      "outputs": []
    },
    {
      "cell_type": "code",
      "source": [
        "# A quick interactive plot. (Note that Altair can't handle more than 5k points, so this is just a sample.)\n",
        "# alt.Chart(set_colors.sample(5000)).mark_point().encode(\n",
        "#     alt.X('Year', scale=alt.Scale(zero=False)),\n",
        "#     y=\"Num Parts\",\n",
        "#     tooltip=[\"Set Name\",\"Set Num:N\",\"Num Parts\"]\n",
        "#   ).properties(\n",
        "#     width=800\n",
        "#   ).interactive()"
      ],
      "metadata": {
        "id": "r5MdrdrmTrLm"
      },
      "execution_count": 111,
      "outputs": []
    },
    {
      "cell_type": "markdown",
      "metadata": {
        "id": "dcK0HpTVh9nA"
      },
      "source": [
        "# Questions\n",
        "\n",
        "1. Using **File 1**, use hierarchical clustering to find groups of colors that have similar characteristics. What **data columns**, **distance metric**, and **distance threshold** do you think give the best result?"
      ]
    },
    {
      "cell_type": "code",
      "execution_count": 111,
      "metadata": {
        "collapsed": true,
        "id": "NTePswtch9nA"
      },
      "outputs": [],
      "source": [
        ""
      ]
    },
    {
      "cell_type": "markdown",
      "source": [
        "2. Using the same data file, use k-means clustering to find groups of colors that have similar characteristics. What **set of data columns** and what **value of k** do you think gives the best result?"
      ],
      "metadata": {
        "id": "yhQLq2qE8j6o"
      }
    },
    {
      "cell_type": "code",
      "source": [
        ""
      ],
      "metadata": {
        "id": "9syGsHgf8mvY"
      },
      "execution_count": 111,
      "outputs": []
    },
    {
      "cell_type": "markdown",
      "source": [
        "3. Using **File 2**, see if you can create a good clustering that finds groupings of sets based on the colors they contain. Are there specific categories of sets that you can identify?\n",
        "    \n",
        "    * *Hint 0: This dataset is big enough to break SciPy's hierarchical clustering. If you want to try hierarchical, use the sklearn [AgglomerativeClustering](https://scikit-learn.org/stable/modules/generated/sklearn.cluster.AgglomerativeClustering.htm) package instead.*\n",
        "    * *Hint 1: You might want to avoid very small sets at least to start.* \n",
        "    * *Hint 2: You'll also want to consider how you'll visualize your clusters.*"
      ],
      "metadata": {
        "id": "kKsAMaZr8nzl"
      }
    },
    {
      "cell_type": "code",
      "source": [
        "color_url = \"https://raw.githubusercontent.com/colinauyeung/599Vis/main/colors.csv\"\n",
        "colors = pd.read_csv(color_url)\n",
        "# colors.fillna(0,inplace=True)\n",
        "color_column_names\n",
        "filtered_colors = colors[colors[\"name\"].isin(color_column_names)]\n",
        "filtered_colors.reset_index()  \n",
        "# filtered_colors"
      ],
      "metadata": {
        "id": "hUVzdqEkqgc3",
        "colab": {
          "base_uri": "https://localhost:8080/",
          "height": 424
        },
        "outputId": "c335d331-015d-444b-9ba7-497050ca13c3"
      },
      "execution_count": 112,
      "outputs": [
        {
          "output_type": "execute_result",
          "data": {
            "text/html": [
              "\n",
              "  <div id=\"df-2b182724-522a-4288-9244-c1fea3338568\">\n",
              "    <div class=\"colab-df-container\">\n",
              "      <div>\n",
              "<style scoped>\n",
              "    .dataframe tbody tr th:only-of-type {\n",
              "        vertical-align: middle;\n",
              "    }\n",
              "\n",
              "    .dataframe tbody tr th {\n",
              "        vertical-align: top;\n",
              "    }\n",
              "\n",
              "    .dataframe thead th {\n",
              "        text-align: right;\n",
              "    }\n",
              "</style>\n",
              "<table border=\"1\" class=\"dataframe\">\n",
              "  <thead>\n",
              "    <tr style=\"text-align: right;\">\n",
              "      <th></th>\n",
              "      <th>index</th>\n",
              "      <th>id</th>\n",
              "      <th>name</th>\n",
              "      <th>rgb</th>\n",
              "      <th>is_trans</th>\n",
              "    </tr>\n",
              "  </thead>\n",
              "  <tbody>\n",
              "    <tr>\n",
              "      <th>0</th>\n",
              "      <td>1</td>\n",
              "      <td>0</td>\n",
              "      <td>Black</td>\n",
              "      <td>05131D</td>\n",
              "      <td>f</td>\n",
              "    </tr>\n",
              "    <tr>\n",
              "      <th>1</th>\n",
              "      <td>2</td>\n",
              "      <td>1</td>\n",
              "      <td>Blue</td>\n",
              "      <td>0055BF</td>\n",
              "      <td>f</td>\n",
              "    </tr>\n",
              "    <tr>\n",
              "      <th>2</th>\n",
              "      <td>3</td>\n",
              "      <td>2</td>\n",
              "      <td>Green</td>\n",
              "      <td>237841</td>\n",
              "      <td>f</td>\n",
              "    </tr>\n",
              "    <tr>\n",
              "      <th>3</th>\n",
              "      <td>4</td>\n",
              "      <td>3</td>\n",
              "      <td>Dark Turquoise</td>\n",
              "      <td>008F9B</td>\n",
              "      <td>f</td>\n",
              "    </tr>\n",
              "    <tr>\n",
              "      <th>4</th>\n",
              "      <td>5</td>\n",
              "      <td>4</td>\n",
              "      <td>Red</td>\n",
              "      <td>C91A09</td>\n",
              "      <td>f</td>\n",
              "    </tr>\n",
              "    <tr>\n",
              "      <th>...</th>\n",
              "      <td>...</td>\n",
              "      <td>...</td>\n",
              "      <td>...</td>\n",
              "      <td>...</td>\n",
              "      <td>...</td>\n",
              "    </tr>\n",
              "    <tr>\n",
              "      <th>119</th>\n",
              "      <td>125</td>\n",
              "      <td>503</td>\n",
              "      <td>Very Light Gray</td>\n",
              "      <td>E6E3DA</td>\n",
              "      <td>f</td>\n",
              "    </tr>\n",
              "    <tr>\n",
              "      <th>120</th>\n",
              "      <td>126</td>\n",
              "      <td>1000</td>\n",
              "      <td>Glow in Dark White</td>\n",
              "      <td>D9D9D9</td>\n",
              "      <td>f</td>\n",
              "    </tr>\n",
              "    <tr>\n",
              "      <th>121</th>\n",
              "      <td>127</td>\n",
              "      <td>1001</td>\n",
              "      <td>Medium Violet</td>\n",
              "      <td>9391E4</td>\n",
              "      <td>f</td>\n",
              "    </tr>\n",
              "    <tr>\n",
              "      <th>122</th>\n",
              "      <td>128</td>\n",
              "      <td>1002</td>\n",
              "      <td>Glitter Trans-Neon Green</td>\n",
              "      <td>C0F500</td>\n",
              "      <td>t</td>\n",
              "    </tr>\n",
              "    <tr>\n",
              "      <th>123</th>\n",
              "      <td>129</td>\n",
              "      <td>1003</td>\n",
              "      <td>Glitter Trans-Light Blue</td>\n",
              "      <td>68BCC5</td>\n",
              "      <td>t</td>\n",
              "    </tr>\n",
              "  </tbody>\n",
              "</table>\n",
              "<p>124 rows × 5 columns</p>\n",
              "</div>\n",
              "      <button class=\"colab-df-convert\" onclick=\"convertToInteractive('df-2b182724-522a-4288-9244-c1fea3338568')\"\n",
              "              title=\"Convert this dataframe to an interactive table.\"\n",
              "              style=\"display:none;\">\n",
              "        \n",
              "  <svg xmlns=\"http://www.w3.org/2000/svg\" height=\"24px\"viewBox=\"0 0 24 24\"\n",
              "       width=\"24px\">\n",
              "    <path d=\"M0 0h24v24H0V0z\" fill=\"none\"/>\n",
              "    <path d=\"M18.56 5.44l.94 2.06.94-2.06 2.06-.94-2.06-.94-.94-2.06-.94 2.06-2.06.94zm-11 1L8.5 8.5l.94-2.06 2.06-.94-2.06-.94L8.5 2.5l-.94 2.06-2.06.94zm10 10l.94 2.06.94-2.06 2.06-.94-2.06-.94-.94-2.06-.94 2.06-2.06.94z\"/><path d=\"M17.41 7.96l-1.37-1.37c-.4-.4-.92-.59-1.43-.59-.52 0-1.04.2-1.43.59L10.3 9.45l-7.72 7.72c-.78.78-.78 2.05 0 2.83L4 21.41c.39.39.9.59 1.41.59.51 0 1.02-.2 1.41-.59l7.78-7.78 2.81-2.81c.8-.78.8-2.07 0-2.86zM5.41 20L4 18.59l7.72-7.72 1.47 1.35L5.41 20z\"/>\n",
              "  </svg>\n",
              "      </button>\n",
              "      \n",
              "  <style>\n",
              "    .colab-df-container {\n",
              "      display:flex;\n",
              "      flex-wrap:wrap;\n",
              "      gap: 12px;\n",
              "    }\n",
              "\n",
              "    .colab-df-convert {\n",
              "      background-color: #E8F0FE;\n",
              "      border: none;\n",
              "      border-radius: 50%;\n",
              "      cursor: pointer;\n",
              "      display: none;\n",
              "      fill: #1967D2;\n",
              "      height: 32px;\n",
              "      padding: 0 0 0 0;\n",
              "      width: 32px;\n",
              "    }\n",
              "\n",
              "    .colab-df-convert:hover {\n",
              "      background-color: #E2EBFA;\n",
              "      box-shadow: 0px 1px 2px rgba(60, 64, 67, 0.3), 0px 1px 3px 1px rgba(60, 64, 67, 0.15);\n",
              "      fill: #174EA6;\n",
              "    }\n",
              "\n",
              "    [theme=dark] .colab-df-convert {\n",
              "      background-color: #3B4455;\n",
              "      fill: #D2E3FC;\n",
              "    }\n",
              "\n",
              "    [theme=dark] .colab-df-convert:hover {\n",
              "      background-color: #434B5C;\n",
              "      box-shadow: 0px 1px 3px 1px rgba(0, 0, 0, 0.15);\n",
              "      filter: drop-shadow(0px 1px 2px rgba(0, 0, 0, 0.3));\n",
              "      fill: #FFFFFF;\n",
              "    }\n",
              "  </style>\n",
              "\n",
              "      <script>\n",
              "        const buttonEl =\n",
              "          document.querySelector('#df-2b182724-522a-4288-9244-c1fea3338568 button.colab-df-convert');\n",
              "        buttonEl.style.display =\n",
              "          google.colab.kernel.accessAllowed ? 'block' : 'none';\n",
              "\n",
              "        async function convertToInteractive(key) {\n",
              "          const element = document.querySelector('#df-2b182724-522a-4288-9244-c1fea3338568');\n",
              "          const dataTable =\n",
              "            await google.colab.kernel.invokeFunction('convertToInteractive',\n",
              "                                                     [key], {});\n",
              "          if (!dataTable) return;\n",
              "\n",
              "          const docLinkHtml = 'Like what you see? Visit the ' +\n",
              "            '<a target=\"_blank\" href=https://colab.research.google.com/notebooks/data_table.ipynb>data table notebook</a>'\n",
              "            + ' to learn more about interactive tables.';\n",
              "          element.innerHTML = '';\n",
              "          dataTable['output_type'] = 'display_data';\n",
              "          await google.colab.output.renderOutput(dataTable, element);\n",
              "          const docLink = document.createElement('div');\n",
              "          docLink.innerHTML = docLinkHtml;\n",
              "          element.appendChild(docLink);\n",
              "        }\n",
              "      </script>\n",
              "    </div>\n",
              "  </div>\n",
              "  "
            ],
            "text/plain": [
              "     index    id                      name     rgb is_trans\n",
              "0        1     0                     Black  05131D        f\n",
              "1        2     1                      Blue  0055BF        f\n",
              "2        3     2                     Green  237841        f\n",
              "3        4     3            Dark Turquoise  008F9B        f\n",
              "4        5     4                       Red  C91A09        f\n",
              "..     ...   ...                       ...     ...      ...\n",
              "119    125   503           Very Light Gray  E6E3DA        f\n",
              "120    126  1000        Glow in Dark White  D9D9D9        f\n",
              "121    127  1001             Medium Violet  9391E4        f\n",
              "122    128  1002  Glitter Trans-Neon Green  C0F500        t\n",
              "123    129  1003  Glitter Trans-Light Blue  68BCC5        t\n",
              "\n",
              "[124 rows x 5 columns]"
            ]
          },
          "metadata": {},
          "execution_count": 112
        }
      ]
    },
    {
      "cell_type": "code",
      "source": [
        "# https://stackoverflow.com/questions/29643352/converting-hex-to-rgb-value-in-python\n",
        "def hex2rgb(hex_string):\n",
        "    r_hex = hex_string[0:2]\n",
        "    g_hex = hex_string[2:4]\n",
        "    b_hex = hex_string[4:6]\n",
        "    return int(r_hex, 16), int(g_hex, 16), int(b_hex, 16)\n",
        "\n",
        "def label_red(row):\n",
        "  return hex2rgb(row[\"rgb\"])[0]\n",
        "\n",
        "def label_green(row):\n",
        "  return hex2rgb(row[\"rgb\"])[1]\n",
        "\n",
        "def label_blue(row):\n",
        "  return hex2rgb(row[\"rgb\"])[2]\n",
        "\n",
        "filtered_colors[\"red\"] = filtered_colors.apply (lambda row: label_red(row), axis=1)\n",
        "filtered_colors[\"green\"] = filtered_colors.apply (lambda row: label_green(row), axis=1)\n",
        "filtered_colors[\"blue\"] = filtered_colors.apply (lambda row: label_blue(row), axis=1)\n",
        "\n",
        "# filtered_colors"
      ],
      "metadata": {
        "id": "0QRKMRLKsCkv",
        "colab": {
          "base_uri": "https://localhost:8080/"
        },
        "outputId": "7e1c3c0a-d808-427e-b53c-46a5a793689b"
      },
      "execution_count": 113,
      "outputs": [
        {
          "output_type": "stream",
          "name": "stderr",
          "text": [
            "/usr/local/lib/python3.7/dist-packages/ipykernel_launcher.py:17: SettingWithCopyWarning: \n",
            "A value is trying to be set on a copy of a slice from a DataFrame.\n",
            "Try using .loc[row_indexer,col_indexer] = value instead\n",
            "\n",
            "See the caveats in the documentation: https://pandas.pydata.org/pandas-docs/stable/user_guide/indexing.html#returning-a-view-versus-a-copy\n",
            "/usr/local/lib/python3.7/dist-packages/ipykernel_launcher.py:18: SettingWithCopyWarning: \n",
            "A value is trying to be set on a copy of a slice from a DataFrame.\n",
            "Try using .loc[row_indexer,col_indexer] = value instead\n",
            "\n",
            "See the caveats in the documentation: https://pandas.pydata.org/pandas-docs/stable/user_guide/indexing.html#returning-a-view-versus-a-copy\n",
            "/usr/local/lib/python3.7/dist-packages/ipykernel_launcher.py:19: SettingWithCopyWarning: \n",
            "A value is trying to be set on a copy of a slice from a DataFrame.\n",
            "Try using .loc[row_indexer,col_indexer] = value instead\n",
            "\n",
            "See the caveats in the documentation: https://pandas.pydata.org/pandas-docs/stable/user_guide/indexing.html#returning-a-view-versus-a-copy\n"
          ]
        }
      ]
    },
    {
      "cell_type": "code",
      "source": [
        "def rgb2xyY(sR, sG, sB):\n",
        "  var_R = ( sR / 255 )\n",
        "  var_G = ( sG / 255 )\n",
        "  var_B = ( sB / 255 )\n",
        "\n",
        "  if ( var_R > 0.04045 ):\n",
        "     var_R = pow(( ( var_R + 0.055 ) / 1.055 ),2.4)\n",
        "  else:\n",
        "    var_R = var_R / 12.92\n",
        "  if ( var_G > 0.04045 ):\n",
        "    var_G = pow(( ( var_G + 0.055 ) / 1.055 ), 2.4)\n",
        "  else:\n",
        "    var_G = var_G / 12.92\n",
        "  if ( var_B > 0.04045 ):\n",
        "    var_B = pow(( ( var_B + 0.055 ) / 1.055 ),2.4)\n",
        "  else:\n",
        "    var_B = var_B / 12.92\n",
        "  var_R = var_R * 100\n",
        "  var_G = var_G * 100\n",
        "  var_B = var_B * 100\n",
        "\n",
        "  X = var_R * 0.4124 + var_G * 0.3576 + var_B * 0.1805\n",
        "  Y = var_R * 0.2126 + var_G * 0.7152 + var_B * 0.0722\n",
        "  Z = var_R * 0.0193 + var_G * 0.1192 + var_B * 0.9505\n",
        "\n",
        "  x2 = X / (X+Y+Z)\n",
        "  y2 = Y / (X+Y+Z)\n",
        "  return x2, y2\n",
        "\n",
        "def label_x(row):\n",
        "  return rgb2xyY(row[\"red\"], row[\"green\"], row[\"blue\"])[0]\n",
        "\n",
        "def label_y(row):\n",
        "  return rgb2xyY(row[\"red\"], row[\"green\"], row[\"blue\"])[1]\n",
        "\n",
        "filtered_colors[\"x\"] = filtered_colors.apply (lambda row: label_x(row), axis=1)\n",
        "filtered_colors[\"y\"] = filtered_colors.apply (lambda row: label_y(row), axis=1)\n",
        "\n",
        "# filtered_colors"
      ],
      "metadata": {
        "id": "JD33Wsi31vKU",
        "colab": {
          "base_uri": "https://localhost:8080/"
        },
        "outputId": "951d66e6-04ae-4a61-b7c2-5a222a231771"
      },
      "execution_count": 114,
      "outputs": [
        {
          "output_type": "stream",
          "name": "stderr",
          "text": [
            "/usr/local/lib/python3.7/dist-packages/ipykernel_launcher.py:36: SettingWithCopyWarning: \n",
            "A value is trying to be set on a copy of a slice from a DataFrame.\n",
            "Try using .loc[row_indexer,col_indexer] = value instead\n",
            "\n",
            "See the caveats in the documentation: https://pandas.pydata.org/pandas-docs/stable/user_guide/indexing.html#returning-a-view-versus-a-copy\n",
            "/usr/local/lib/python3.7/dist-packages/ipykernel_launcher.py:37: SettingWithCopyWarning: \n",
            "A value is trying to be set on a copy of a slice from a DataFrame.\n",
            "Try using .loc[row_indexer,col_indexer] = value instead\n",
            "\n",
            "See the caveats in the documentation: https://pandas.pydata.org/pandas-docs/stable/user_guide/indexing.html#returning-a-view-versus-a-copy\n"
          ]
        }
      ]
    },
    {
      "cell_type": "code",
      "source": [
        "# points = alt.Chart(filtered_colors).mark_point().encode(\n",
        "#     x=\"x\",\n",
        "#     y=\"y\",\n",
        "#     tooltip=list(filtered_colors.columns.values) #👀\n",
        "#   )\n",
        "\n",
        "# # text = alt.Chart(lego_colors).mark_text(\n",
        "# #     align=\"left\",\n",
        "# #     baseline=\"bottom\"  \n",
        "# #   ).encode(\n",
        "# #     x=\"Number of Years\",\n",
        "# #     y=\"Number of Unique Sets\",\n",
        "# #     text=\"Color\"\n",
        "# #   )\n",
        "\n",
        "# (points).properties(\n",
        "#     width=800\n",
        "#   ).interactive() #👀"
      ],
      "metadata": {
        "id": "dN022qGn352F"
      },
      "execution_count": 115,
      "outputs": []
    },
    {
      "cell_type": "code",
      "source": [
        "hex2rgb(\"D9D9D9\")"
      ],
      "metadata": {
        "id": "0oN90b2QwlfI",
        "colab": {
          "base_uri": "https://localhost:8080/"
        },
        "outputId": "779c1522-e26f-46ff-bb76-41a9d7fbb072"
      },
      "execution_count": 116,
      "outputs": [
        {
          "output_type": "execute_result",
          "data": {
            "text/plain": [
              "(217, 217, 217)"
            ]
          },
          "metadata": {},
          "execution_count": 116
        }
      ]
    },
    {
      "cell_type": "code",
      "source": [
        "df_xy_features = filtered_colors[[\"x\",\"y\"]] # Pull out only using the x & y colums to use for clustering\n",
        "dist_xy = spd.squareform(spd.pdist(df_xy_features, metric='euclidean'))\n",
        "dist_xy.shape"
      ],
      "metadata": {
        "id": "KejH-1Tr8f1P",
        "colab": {
          "base_uri": "https://localhost:8080/"
        },
        "outputId": "b06c8d13-8a8b-4a75-8908-6278508b2d8b"
      },
      "execution_count": 117,
      "outputs": [
        {
          "output_type": "execute_result",
          "data": {
            "text/plain": [
              "(124, 124)"
            ]
          },
          "metadata": {},
          "execution_count": 117
        }
      ]
    },
    {
      "cell_type": "code",
      "source": [
        "dist_xy[:4,:4]"
      ],
      "metadata": {
        "id": "tcIfJ-qG8mrz",
        "colab": {
          "base_uri": "https://localhost:8080/"
        },
        "outputId": "af9a1584-a62a-437f-c5c9-8b041083fed7"
      },
      "execution_count": 118,
      "outputs": [
        {
          "output_type": "execute_result",
          "data": {
            "text/plain": [
              "array([[0.        , 0.11981048, 0.23361528, 0.0555639 ],\n",
              "       [0.11981048, 0.        , 0.35255633, 0.17167014],\n",
              "       [0.23361528, 0.35255633, 0.        , 0.18116978],\n",
              "       [0.0555639 , 0.17167014, 0.18116978, 0.        ]])"
            ]
          },
          "metadata": {},
          "execution_count": 118
        }
      ]
    },
    {
      "cell_type": "code",
      "source": [
        "# Perform hierarchical clustering and plot the dendrogram.\n",
        "# Z_xy = sph.linkage(dist_xy, method='centroid')  # obtain the linkage matrix\n",
        "# _ = sph.dendrogram(Z_xy)  # plot the linkage matrix as a dendrogram\n",
        "# plt.xlabel('Data Points')\n",
        "# plt.ylabel('Distance')\n",
        "# plt.suptitle('Dendrogram: 12-point toy data', \n",
        "#              fontweight='bold', fontsize=14);"
      ],
      "metadata": {
        "id": "dMeFUxmG8rLO"
      },
      "execution_count": 119,
      "outputs": []
    },
    {
      "cell_type": "code",
      "source": [
        "# color_labels = sph.fcluster(Z_xy, 0.4, criterion='distance') # --- what happens if you use a different distance threshold?\n",
        "# filtered_colors['cluster_label'] = color_labels\n",
        "# filtered_colors.head()"
      ],
      "metadata": {
        "id": "GVBwNwvu86ZQ"
      },
      "execution_count": 120,
      "outputs": []
    },
    {
      "cell_type": "code",
      "source": [
        "# Perform hierarchical clustering and plot the dendrogram.\n",
        "Z_xy = sph.linkage(dist_xy, method='average')  # obtain the linkage matrix\n",
        "_ = sph.dendrogram(Z_xy)  # plot the linkage matrix as a dendrogram\n",
        "plt.xlabel('Data Points')\n",
        "plt.ylabel('Distance')\n",
        "plt.suptitle('Dendrogram: 12-point toy data', \n",
        "             fontweight='bold', fontsize=14);"
      ],
      "metadata": {
        "id": "8a4td0XQB_e2",
        "colab": {
          "base_uri": "https://localhost:8080/",
          "height": 345
        },
        "outputId": "a42b48ec-9cc1-4061-f8e5-5bfd666f3a78"
      },
      "execution_count": 121,
      "outputs": [
        {
          "output_type": "stream",
          "name": "stderr",
          "text": [
            "/usr/local/lib/python3.7/dist-packages/ipykernel_launcher.py:2: ClusterWarning: scipy.cluster: The symmetric non-negative hollow observation matrix looks suspiciously like an uncondensed distance matrix\n",
            "  \n"
          ]
        },
        {
          "output_type": "display_data",
          "data": {
            "image/png": "[encoded data removed]",
            "text/plain": [
              "<Figure size 432x288 with 1 Axes>"
            ]
          },
          "metadata": {
            "needs_background": "light"
          }
        }
      ]
    },
    {
      "cell_type": "code",
      "source": [
        "color_labels = sph.fcluster(Z_xy, 0.5, criterion='distance') # --- what happens if you use a different distance threshold?\n",
        "filtered_colors['cluster_label'] = color_labels\n",
        "filtered_colors.head()"
      ],
      "metadata": {
        "id": "1hHxPNrQCGZO",
        "colab": {
          "base_uri": "https://localhost:8080/",
          "height": 319
        },
        "outputId": "c5da2d1a-3c81-46da-9003-979e0a743e52"
      },
      "execution_count": 122,
      "outputs": [
        {
          "output_type": "stream",
          "name": "stderr",
          "text": [
            "/usr/local/lib/python3.7/dist-packages/ipykernel_launcher.py:2: SettingWithCopyWarning: \n",
            "A value is trying to be set on a copy of a slice from a DataFrame.\n",
            "Try using .loc[row_indexer,col_indexer] = value instead\n",
            "\n",
            "See the caveats in the documentation: https://pandas.pydata.org/pandas-docs/stable/user_guide/indexing.html#returning-a-view-versus-a-copy\n",
            "  \n"
          ]
        },
        {
          "output_type": "execute_result",
          "data": {
            "text/html": [
              "\n",
              "  <div id=\"df-b55784b8-168a-4e47-8917-730fc174d440\">\n",
              "    <div class=\"colab-df-container\">\n",
              "      <div>\n",
              "<style scoped>\n",
              "    .dataframe tbody tr th:only-of-type {\n",
              "        vertical-align: middle;\n",
              "    }\n",
              "\n",
              "    .dataframe tbody tr th {\n",
              "        vertical-align: top;\n",
              "    }\n",
              "\n",
              "    .dataframe thead th {\n",
              "        text-align: right;\n",
              "    }\n",
              "</style>\n",
              "<table border=\"1\" class=\"dataframe\">\n",
              "  <thead>\n",
              "    <tr style=\"text-align: right;\">\n",
              "      <th></th>\n",
              "      <th>id</th>\n",
              "      <th>name</th>\n",
              "      <th>rgb</th>\n",
              "      <th>is_trans</th>\n",
              "      <th>red</th>\n",
              "      <th>green</th>\n",
              "      <th>blue</th>\n",
              "      <th>x</th>\n",
              "      <th>y</th>\n",
              "      <th>cluster_label</th>\n",
              "    </tr>\n",
              "  </thead>\n",
              "  <tbody>\n",
              "    <tr>\n",
              "      <th>1</th>\n",
              "      <td>0</td>\n",
              "      <td>Black</td>\n",
              "      <td>05131D</td>\n",
              "      <td>f</td>\n",
              "      <td>5</td>\n",
              "      <td>19</td>\n",
              "      <td>29</td>\n",
              "      <td>0.219880</td>\n",
              "      <td>0.249420</td>\n",
              "      <td>8</td>\n",
              "    </tr>\n",
              "    <tr>\n",
              "      <th>2</th>\n",
              "      <td>1</td>\n",
              "      <td>Blue</td>\n",
              "      <td>0055BF</td>\n",
              "      <td>f</td>\n",
              "      <td>0</td>\n",
              "      <td>85</td>\n",
              "      <td>191</td>\n",
              "      <td>0.172108</td>\n",
              "      <td>0.139545</td>\n",
              "      <td>3</td>\n",
              "    </tr>\n",
              "    <tr>\n",
              "      <th>3</th>\n",
              "      <td>2</td>\n",
              "      <td>Green</td>\n",
              "      <td>237841</td>\n",
              "      <td>f</td>\n",
              "      <td>35</td>\n",
              "      <td>120</td>\n",
              "      <td>65</td>\n",
              "      <td>0.280368</td>\n",
              "      <td>0.475068</td>\n",
              "      <td>14</td>\n",
              "    </tr>\n",
              "    <tr>\n",
              "      <th>4</th>\n",
              "      <td>3</td>\n",
              "      <td>Dark Turquoise</td>\n",
              "      <td>008F9B</td>\n",
              "      <td>f</td>\n",
              "      <td>0</td>\n",
              "      <td>143</td>\n",
              "      <td>155</td>\n",
              "      <td>0.218051</td>\n",
              "      <td>0.304953</td>\n",
              "      <td>7</td>\n",
              "    </tr>\n",
              "    <tr>\n",
              "      <th>5</th>\n",
              "      <td>4</td>\n",
              "      <td>Red</td>\n",
              "      <td>C91A09</td>\n",
              "      <td>f</td>\n",
              "      <td>201</td>\n",
              "      <td>26</td>\n",
              "      <td>9</td>\n",
              "      <td>0.625280</td>\n",
              "      <td>0.336190</td>\n",
              "      <td>1</td>\n",
              "    </tr>\n",
              "  </tbody>\n",
              "</table>\n",
              "</div>\n",
              "      <button class=\"colab-df-convert\" onclick=\"convertToInteractive('df-b55784b8-168a-4e47-8917-730fc174d440')\"\n",
              "              title=\"Convert this dataframe to an interactive table.\"\n",
              "              style=\"display:none;\">\n",
              "        \n",
              "  <svg xmlns=\"http://www.w3.org/2000/svg\" height=\"24px\"viewBox=\"0 0 24 24\"\n",
              "       width=\"24px\">\n",
              "    <path d=\"M0 0h24v24H0V0z\" fill=\"none\"/>\n",
              "    <path d=\"M18.56 5.44l.94 2.06.94-2.06 2.06-.94-2.06-.94-.94-2.06-.94 2.06-2.06.94zm-11 1L8.5 8.5l.94-2.06 2.06-.94-2.06-.94L8.5 2.5l-.94 2.06-2.06.94zm10 10l.94 2.06.94-2.06 2.06-.94-2.06-.94-.94-2.06-.94 2.06-2.06.94z\"/><path d=\"M17.41 7.96l-1.37-1.37c-.4-.4-.92-.59-1.43-.59-.52 0-1.04.2-1.43.59L10.3 9.45l-7.72 7.72c-.78.78-.78 2.05 0 2.83L4 21.41c.39.39.9.59 1.41.59.51 0 1.02-.2 1.41-.59l7.78-7.78 2.81-2.81c.8-.78.8-2.07 0-2.86zM5.41 20L4 18.59l7.72-7.72 1.47 1.35L5.41 20z\"/>\n",
              "  </svg>\n",
              "      </button>\n",
              "      \n",
              "  <style>\n",
              "    .colab-df-container {\n",
              "      display:flex;\n",
              "      flex-wrap:wrap;\n",
              "      gap: 12px;\n",
              "    }\n",
              "\n",
              "    .colab-df-convert {\n",
              "      background-color: #E8F0FE;\n",
              "      border: none;\n",
              "      border-radius: 50%;\n",
              "      cursor: pointer;\n",
              "      display: none;\n",
              "      fill: #1967D2;\n",
              "      height: 32px;\n",
              "      padding: 0 0 0 0;\n",
              "      width: 32px;\n",
              "    }\n",
              "\n",
              "    .colab-df-convert:hover {\n",
              "      background-color: #E2EBFA;\n",
              "      box-shadow: 0px 1px 2px rgba(60, 64, 67, 0.3), 0px 1px 3px 1px rgba(60, 64, 67, 0.15);\n",
              "      fill: #174EA6;\n",
              "    }\n",
              "\n",
              "    [theme=dark] .colab-df-convert {\n",
              "      background-color: #3B4455;\n",
              "      fill: #D2E3FC;\n",
              "    }\n",
              "\n",
              "    [theme=dark] .colab-df-convert:hover {\n",
              "      background-color: #434B5C;\n",
              "      box-shadow: 0px 1px 3px 1px rgba(0, 0, 0, 0.15);\n",
              "      filter: drop-shadow(0px 1px 2px rgba(0, 0, 0, 0.3));\n",
              "      fill: #FFFFFF;\n",
              "    }\n",
              "  </style>\n",
              "\n",
              "      <script>\n",
              "        const buttonEl =\n",
              "          document.querySelector('#df-b55784b8-168a-4e47-8917-730fc174d440 button.colab-df-convert');\n",
              "        buttonEl.style.display =\n",
              "          google.colab.kernel.accessAllowed ? 'block' : 'none';\n",
              "\n",
              "        async function convertToInteractive(key) {\n",
              "          const element = document.querySelector('#df-b55784b8-168a-4e47-8917-730fc174d440');\n",
              "          const dataTable =\n",
              "            await google.colab.kernel.invokeFunction('convertToInteractive',\n",
              "                                                     [key], {});\n",
              "          if (!dataTable) return;\n",
              "\n",
              "          const docLinkHtml = 'Like what you see? Visit the ' +\n",
              "            '<a target=\"_blank\" href=https://colab.research.google.com/notebooks/data_table.ipynb>data table notebook</a>'\n",
              "            + ' to learn more about interactive tables.';\n",
              "          element.innerHTML = '';\n",
              "          dataTable['output_type'] = 'display_data';\n",
              "          await google.colab.output.renderOutput(dataTable, element);\n",
              "          const docLink = document.createElement('div');\n",
              "          docLink.innerHTML = docLinkHtml;\n",
              "          element.appendChild(docLink);\n",
              "        }\n",
              "      </script>\n",
              "    </div>\n",
              "  </div>\n",
              "  "
            ],
            "text/plain": [
              "   id            name     rgb is_trans  red  green  blue         x         y  \\\n",
              "1   0           Black  05131D        f    5     19    29  0.219880  0.249420   \n",
              "2   1            Blue  0055BF        f    0     85   191  0.172108  0.139545   \n",
              "3   2           Green  237841        f   35    120    65  0.280368  0.475068   \n",
              "4   3  Dark Turquoise  008F9B        f    0    143   155  0.218051  0.304953   \n",
              "5   4             Red  C91A09        f  201     26     9  0.625280  0.336190   \n",
              "\n",
              "   cluster_label  \n",
              "1              8  \n",
              "2              3  \n",
              "3             14  \n",
              "4              7  \n",
              "5              1  "
            ]
          },
          "metadata": {},
          "execution_count": 122
        }
      ]
    },
    {
      "cell_type": "code",
      "source": [
        "\n",
        "\n",
        "# points = alt.Chart(filtered_colors).transform_calculate(\n",
        "#     url='https://www.color-hex.com/color/' + alt.datum.rgb\n",
        "# ).mark_point().encode(\n",
        "#     x=\"x\",\n",
        "#     y=\"y\",\n",
        "#     color=\"cluster_label:N\",\n",
        "#     tooltip=list(filtered_colors.columns.values),\n",
        "#     href=\"url:N\" #👀\n",
        "#   )\n",
        "\n",
        "# # text = alt.Chart(lego_colors).mark_text(\n",
        "# #     align=\"left\",\n",
        "# #     baseline=\"bottom\"  \n",
        "# #   ).encode(\n",
        "# #     x=\"Number of Years\",\n",
        "# #     y=\"Number of Unique Sets\",\n",
        "# #     text=\"Color\"\n",
        "# #   )\n",
        "\n",
        "# (points).properties(\n",
        "#     width=800\n",
        "#   ).interactive() #👀"
      ],
      "metadata": {
        "id": "TwMZvEqB9LB0"
      },
      "execution_count": 123,
      "outputs": []
    },
    {
      "cell_type": "code",
      "source": [
        "type(filtered_colors[filtered_colors[\"cluster_label\"]==1][\"name\"].tolist())"
      ],
      "metadata": {
        "id": "_SWswOVSJThc",
        "colab": {
          "base_uri": "https://localhost:8080/"
        },
        "outputId": "8530f557-15c5-4b11-ce0b-66a75504ec7f"
      },
      "execution_count": 124,
      "outputs": [
        {
          "output_type": "execute_result",
          "data": {
            "text/plain": [
              "list"
            ]
          },
          "metadata": {},
          "execution_count": 124
        }
      ]
    },
    {
      "cell_type": "code",
      "source": [
        "clusters = [\"Red Cluster\", \"Deep Blue Cluster\", \"Blue Cluster\", \"Pink Cluster\", \"Dark Green Cluster\", \"Light/Near White Cluster\", \"Light Blue/Black Cluster\", \"Mid Blue/Black Cluster\", \"Purple Cluster\",\n",
        "            \"Neon Green Cluster\", \"Yellow Cluster\", \"Orange Cluster\", \"Green Cluster\", \"Yellow-Green Cluster\", \"Brown Cluster\"]\n",
        "set_colors_mod = set_colors\n",
        "set_colors_mod[\"Red Cluster\"] = set_colors_mod[filtered_colors[filtered_colors[\"cluster_label\"]==1][\"name\"].tolist()].agg(\"sum\", axis=\"columns\")\n",
        "\n",
        "set_colors_mod[\"Deep Blue Cluster\"] = set_colors_mod[filtered_colors[filtered_colors[\"cluster_label\"]==2][\"name\"].tolist()].agg(\"sum\", axis=\"columns\")\n",
        "\n",
        "set_colors_mod[\"Blue Cluster\"] = set_colors_mod[filtered_colors[filtered_colors[\"cluster_label\"]==3][\"name\"].tolist()].agg(\"sum\", axis=\"columns\")\n",
        "\n",
        "set_colors_mod[\"Pink Cluster\"] = set_colors_mod[filtered_colors[filtered_colors[\"cluster_label\"]==4][\"name\"].tolist()].agg(\"sum\", axis=\"columns\")\n",
        "\n",
        "set_colors_mod[\"Dark Green Cluster\"] = set_colors_mod[filtered_colors[filtered_colors[\"cluster_label\"]==5][\"name\"].tolist()].agg(\"sum\", axis=\"columns\")\n",
        "\n",
        "set_colors_mod[\"Light/Near White Cluster\"] = set_colors_mod[filtered_colors[filtered_colors[\"cluster_label\"]==6][\"name\"].tolist()].agg(\"sum\", axis=\"columns\")\n",
        "\n",
        "set_colors_mod[\"Light Blue/Black Cluster\"] = set_colors_mod[filtered_colors[filtered_colors[\"cluster_label\"]==7][\"name\"].tolist()].agg(\"sum\", axis=\"columns\")\n",
        "\n",
        "set_colors_mod[\"Mid Blue/Black Cluster\"] = set_colors_mod[filtered_colors[filtered_colors[\"cluster_label\"]==8][\"name\"].tolist()].agg(\"sum\", axis=\"columns\")\n",
        "\n",
        "set_colors_mod[\"Purple Cluster\"] = set_colors_mod[filtered_colors[filtered_colors[\"cluster_label\"]==9][\"name\"].tolist()].agg(\"sum\", axis=\"columns\")\n",
        "\n",
        "set_colors_mod[\"Neon Green Cluster\"] = set_colors_mod[filtered_colors[filtered_colors[\"cluster_label\"]==10][\"name\"].tolist()].agg(\"sum\", axis=\"columns\")\n",
        "\n",
        "set_colors_mod[\"Yellow Cluster\"] = set_colors_mod[filtered_colors[filtered_colors[\"cluster_label\"]==11][\"name\"].tolist()].agg(\"sum\", axis=\"columns\")\n",
        "\n",
        "set_colors_mod[\"Orange Cluster\"] = set_colors_mod[filtered_colors[filtered_colors[\"cluster_label\"]==12][\"name\"].tolist()+filtered_colors[filtered_colors[\"cluster_label\"]==13][\"name\"].tolist()].agg(\"sum\", axis=\"columns\")\n",
        "\n",
        "set_colors_mod[\"Green Cluster\"] = set_colors_mod[filtered_colors[filtered_colors[\"cluster_label\"]==14][\"name\"].tolist()].agg(\"sum\", axis=\"columns\")\n",
        "\n",
        "set_colors_mod[\"Yellow-Green Cluster\"] = set_colors_mod[filtered_colors[filtered_colors[\"cluster_label\"]==15][\"name\"].tolist()].agg(\"sum\", axis=\"columns\")\n",
        "\n",
        "set_colors_mod[\"Brown Cluster\"] = set_colors_mod[filtered_colors[filtered_colors[\"cluster_label\"]==15][\"name\"].tolist()].agg(\"sum\", axis=\"columns\")\n",
        "\n",
        "# view = filtered_colors[filtered_colors[\"cluster_label\"]==12][\"name\"].tolist()\n",
        "# view = view + filtered_colors[filtered_colors[\"cluster_label\"]==13][\"name\"].tolist()\n",
        "# view.append(\"Orange Cluster\");\n",
        "# view.append(\"Set Name\");\n",
        "\n",
        "set_colors_mod[\"Agg\"] = set_colors_mod[clusters].agg(\"sum\", axis=\"columns\")\n",
        "\n",
        "view = [\"Set Name\", \"Set Num\", \"Num Parts\", \"Agg\", \"[No Color]\"] + clusters\n",
        "\n",
        "# set_colors_mod[view]"
      ],
      "metadata": {
        "id": "edE-hY2CKtHm"
      },
      "execution_count": 125,
      "outputs": []
    },
    {
      "cell_type": "code",
      "source": [
        "n = 6\n",
        "# set_colors_mod[clusters[n-1]] = set_colors_mod[filtered_colors[filtered_colors[\"cluster_label\"]==n][\"name\"].tolist()].agg(\"sum\", axis=\"columns\")\n",
        "view = filtered_colors[filtered_colors[\"cluster_label\"]==n][\"name\"].tolist()\n",
        "\n",
        "view.append(clusters[n-1]);\n",
        "view.append(\"Set Name\");\n",
        "\n",
        "# set_colors_mod[view]"
      ],
      "metadata": {
        "id": "USh8WcFHN0XY"
      },
      "execution_count": 126,
      "outputs": []
    },
    {
      "cell_type": "code",
      "source": [
        "# n = 13\n",
        "# set_colors_mod[str(n)] = set_colors_mod[filtered_colors[filtered_colors[\"cluster_label\"]==n][\"name\"].tolist() + filtered_colors[filtered_colors[\"cluster_label\"]==n-1][\"name\"].tolist()].agg(\"sum\", axis=\"columns\")\n",
        "# view = filtered_colors[filtered_colors[\"cluster_label\"]==n][\"name\"].tolist() + filtered_colors[filtered_colors[\"cluster_label\"]==n-1][\"name\"].tolist()\n",
        "\n",
        "# view.append(str(n));\n",
        "# view.append(\"Set Name\");\n",
        "\n",
        "# set_colors_mod"
      ],
      "metadata": {
        "id": "4RVdxbgjScCO"
      },
      "execution_count": 127,
      "outputs": []
    },
    {
      "cell_type": "code",
      "source": [
        "listolist = []\n",
        "for i in range(1,16):\n",
        "  listolist.append(filtered_colors[filtered_colors[\"cluster_label\"]==i][\"name\"].tolist())\n",
        "# listolist"
      ],
      "metadata": {
        "id": "CP5-UA-lVn7D"
      },
      "execution_count": 128,
      "outputs": []
    },
    {
      "cell_type": "markdown",
      "source": [
        ""
      ],
      "metadata": {
        "id": "tLURTFhisBKG"
      }
    },
    {
      "cell_type": "code",
      "source": [
        "filter = set_colors_mod[\"Num Parts\"] > 100\n",
        "set_colors[filter].shape"
      ],
      "metadata": {
        "id": "sZPfRY84chU1",
        "colab": {
          "base_uri": "https://localhost:8080/"
        },
        "outputId": "31a9928e-d682-4f31-b598-2f3f0df57150"
      },
      "execution_count": 129,
      "outputs": [
        {
          "output_type": "execute_result",
          "data": {
            "text/plain": [
              "(3897, 151)"
            ]
          },
          "metadata": {},
          "execution_count": 129
        }
      ]
    },
    {
      "cell_type": "code",
      "source": [
        "filter2 = set_colors['[No Color]'] != set_colors['Num Parts']\n",
        "set_colors[filter2].shape"
      ],
      "metadata": {
        "id": "CbU45QqOXvhI",
        "colab": {
          "base_uri": "https://localhost:8080/"
        },
        "outputId": "277b4f70-4f57-412e-aab3-66ba9ce96f6f"
      },
      "execution_count": 130,
      "outputs": [
        {
          "output_type": "execute_result",
          "data": {
            "text/plain": [
              "(10663, 151)"
            ]
          },
          "metadata": {},
          "execution_count": 130
        }
      ]
    },
    {
      "cell_type": "code",
      "source": [
        "set_colors[clusters + [\"[No Color]\"]][filter2 & filter].shape"
      ],
      "metadata": {
        "id": "RCgmHz7JX7VY",
        "colab": {
          "base_uri": "https://localhost:8080/"
        },
        "outputId": "5b4fff47-4ac0-4dbb-c97d-f25695768459"
      },
      "execution_count": 131,
      "outputs": [
        {
          "output_type": "execute_result",
          "data": {
            "text/plain": [
              "(3897, 16)"
            ]
          },
          "metadata": {},
          "execution_count": 131
        }
      ]
    },
    {
      "cell_type": "code",
      "source": [
        "# alt.Chart(set_colors[filter]).mark_point().encode(\n",
        "#     alt.X('Year', scale=alt.Scale(zero=False)),\n",
        "#     y=\"Num Parts\",\n",
        "#     tooltip=[\"Set Name\",\"Set Num:N\",\"Num Parts\"]\n",
        "#   ).properties(\n",
        "#     width=800\n",
        "#   ).interactive()"
      ],
      "metadata": {
        "id": "faiNV7TNXdik"
      },
      "execution_count": 132,
      "outputs": []
    },
    {
      "cell_type": "code",
      "source": [
        ""
      ],
      "metadata": {
        "id": "RfewAgvfYRRT"
      },
      "execution_count": 132,
      "outputs": []
    },
    {
      "cell_type": "code",
      "source": [
        "filteredset = set_colors_mod[filter]\n",
        "clusteredfilter = filteredset[clusters]\n",
        "clusteredfilter.reset_index(drop=True)\n",
        "clusteredfilter.head()"
      ],
      "metadata": {
        "id": "r72vASV8XCl6",
        "colab": {
          "base_uri": "https://localhost:8080/",
          "height": 267
        },
        "outputId": "7dfad6ed-74da-4375-ff2b-526169573b3f"
      },
      "execution_count": 133,
      "outputs": [
        {
          "output_type": "execute_result",
          "data": {
            "text/html": [
              "\n",
              "  <div id=\"df-5a8d130a-f84d-4bf9-b2af-b907b69c81b9\">\n",
              "    <div class=\"colab-df-container\">\n",
              "      <div>\n",
              "<style scoped>\n",
              "    .dataframe tbody tr th:only-of-type {\n",
              "        vertical-align: middle;\n",
              "    }\n",
              "\n",
              "    .dataframe tbody tr th {\n",
              "        vertical-align: top;\n",
              "    }\n",
              "\n",
              "    .dataframe thead th {\n",
              "        text-align: right;\n",
              "    }\n",
              "</style>\n",
              "<table border=\"1\" class=\"dataframe\">\n",
              "  <thead>\n",
              "    <tr style=\"text-align: right;\">\n",
              "      <th></th>\n",
              "      <th>Red Cluster</th>\n",
              "      <th>Deep Blue Cluster</th>\n",
              "      <th>Blue Cluster</th>\n",
              "      <th>Pink Cluster</th>\n",
              "      <th>Dark Green Cluster</th>\n",
              "      <th>Light/Near White Cluster</th>\n",
              "      <th>Light Blue/Black Cluster</th>\n",
              "      <th>Mid Blue/Black Cluster</th>\n",
              "      <th>Purple Cluster</th>\n",
              "      <th>Neon Green Cluster</th>\n",
              "      <th>Yellow Cluster</th>\n",
              "      <th>Orange Cluster</th>\n",
              "      <th>Green Cluster</th>\n",
              "      <th>Yellow-Green Cluster</th>\n",
              "      <th>Brown Cluster</th>\n",
              "    </tr>\n",
              "  </thead>\n",
              "  <tbody>\n",
              "    <tr>\n",
              "      <th>0</th>\n",
              "      <td>181.0</td>\n",
              "      <td>1.0</td>\n",
              "      <td>0.0</td>\n",
              "      <td>0.0</td>\n",
              "      <td>1.0</td>\n",
              "      <td>168.0</td>\n",
              "      <td>0.0</td>\n",
              "      <td>199.0</td>\n",
              "      <td>0.0</td>\n",
              "      <td>0.0</td>\n",
              "      <td>24.0</td>\n",
              "      <td>2.0</td>\n",
              "      <td>8.0</td>\n",
              "      <td>127.0</td>\n",
              "      <td>127.0</td>\n",
              "    </tr>\n",
              "    <tr>\n",
              "      <th>1</th>\n",
              "      <td>16.0</td>\n",
              "      <td>1.0</td>\n",
              "      <td>49.0</td>\n",
              "      <td>0.0</td>\n",
              "      <td>1.0</td>\n",
              "      <td>169.0</td>\n",
              "      <td>0.0</td>\n",
              "      <td>45.0</td>\n",
              "      <td>0.0</td>\n",
              "      <td>0.0</td>\n",
              "      <td>23.0</td>\n",
              "      <td>26.0</td>\n",
              "      <td>13.0</td>\n",
              "      <td>11.0</td>\n",
              "      <td>11.0</td>\n",
              "    </tr>\n",
              "    <tr>\n",
              "      <th>3</th>\n",
              "      <td>0.0</td>\n",
              "      <td>0.0</td>\n",
              "      <td>0.0</td>\n",
              "      <td>0.0</td>\n",
              "      <td>0.0</td>\n",
              "      <td>150.0</td>\n",
              "      <td>0.0</td>\n",
              "      <td>67.0</td>\n",
              "      <td>0.0</td>\n",
              "      <td>0.0</td>\n",
              "      <td>28.0</td>\n",
              "      <td>20.0</td>\n",
              "      <td>0.0</td>\n",
              "      <td>5.0</td>\n",
              "      <td>5.0</td>\n",
              "    </tr>\n",
              "    <tr>\n",
              "      <th>8</th>\n",
              "      <td>109.0</td>\n",
              "      <td>0.0</td>\n",
              "      <td>56.0</td>\n",
              "      <td>0.0</td>\n",
              "      <td>0.0</td>\n",
              "      <td>132.0</td>\n",
              "      <td>0.0</td>\n",
              "      <td>116.0</td>\n",
              "      <td>0.0</td>\n",
              "      <td>0.0</td>\n",
              "      <td>0.0</td>\n",
              "      <td>0.0</td>\n",
              "      <td>6.0</td>\n",
              "      <td>0.0</td>\n",
              "      <td>0.0</td>\n",
              "    </tr>\n",
              "    <tr>\n",
              "      <th>10</th>\n",
              "      <td>59.0</td>\n",
              "      <td>0.0</td>\n",
              "      <td>2.0</td>\n",
              "      <td>0.0</td>\n",
              "      <td>0.0</td>\n",
              "      <td>160.0</td>\n",
              "      <td>0.0</td>\n",
              "      <td>92.0</td>\n",
              "      <td>0.0</td>\n",
              "      <td>0.0</td>\n",
              "      <td>1.0</td>\n",
              "      <td>0.0</td>\n",
              "      <td>0.0</td>\n",
              "      <td>0.0</td>\n",
              "      <td>0.0</td>\n",
              "    </tr>\n",
              "  </tbody>\n",
              "</table>\n",
              "</div>\n",
              "      <button class=\"colab-df-convert\" onclick=\"convertToInteractive('df-5a8d130a-f84d-4bf9-b2af-b907b69c81b9')\"\n",
              "              title=\"Convert this dataframe to an interactive table.\"\n",
              "              style=\"display:none;\">\n",
              "        \n",
              "  <svg xmlns=\"http://www.w3.org/2000/svg\" height=\"24px\"viewBox=\"0 0 24 24\"\n",
              "       width=\"24px\">\n",
              "    <path d=\"M0 0h24v24H0V0z\" fill=\"none\"/>\n",
              "    <path d=\"M18.56 5.44l.94 2.06.94-2.06 2.06-.94-2.06-.94-.94-2.06-.94 2.06-2.06.94zm-11 1L8.5 8.5l.94-2.06 2.06-.94-2.06-.94L8.5 2.5l-.94 2.06-2.06.94zm10 10l.94 2.06.94-2.06 2.06-.94-2.06-.94-.94-2.06-.94 2.06-2.06.94z\"/><path d=\"M17.41 7.96l-1.37-1.37c-.4-.4-.92-.59-1.43-.59-.52 0-1.04.2-1.43.59L10.3 9.45l-7.72 7.72c-.78.78-.78 2.05 0 2.83L4 21.41c.39.39.9.59 1.41.59.51 0 1.02-.2 1.41-.59l7.78-7.78 2.81-2.81c.8-.78.8-2.07 0-2.86zM5.41 20L4 18.59l7.72-7.72 1.47 1.35L5.41 20z\"/>\n",
              "  </svg>\n",
              "      </button>\n",
              "      \n",
              "  <style>\n",
              "    .colab-df-container {\n",
              "      display:flex;\n",
              "      flex-wrap:wrap;\n",
              "      gap: 12px;\n",
              "    }\n",
              "\n",
              "    .colab-df-convert {\n",
              "      background-color: #E8F0FE;\n",
              "      border: none;\n",
              "      border-radius: 50%;\n",
              "      cursor: pointer;\n",
              "      display: none;\n",
              "      fill: #1967D2;\n",
              "      height: 32px;\n",
              "      padding: 0 0 0 0;\n",
              "      width: 32px;\n",
              "    }\n",
              "\n",
              "    .colab-df-convert:hover {\n",
              "      background-color: #E2EBFA;\n",
              "      box-shadow: 0px 1px 2px rgba(60, 64, 67, 0.3), 0px 1px 3px 1px rgba(60, 64, 67, 0.15);\n",
              "      fill: #174EA6;\n",
              "    }\n",
              "\n",
              "    [theme=dark] .colab-df-convert {\n",
              "      background-color: #3B4455;\n",
              "      fill: #D2E3FC;\n",
              "    }\n",
              "\n",
              "    [theme=dark] .colab-df-convert:hover {\n",
              "      background-color: #434B5C;\n",
              "      box-shadow: 0px 1px 3px 1px rgba(0, 0, 0, 0.15);\n",
              "      filter: drop-shadow(0px 1px 2px rgba(0, 0, 0, 0.3));\n",
              "      fill: #FFFFFF;\n",
              "    }\n",
              "  </style>\n",
              "\n",
              "      <script>\n",
              "        const buttonEl =\n",
              "          document.querySelector('#df-5a8d130a-f84d-4bf9-b2af-b907b69c81b9 button.colab-df-convert');\n",
              "        buttonEl.style.display =\n",
              "          google.colab.kernel.accessAllowed ? 'block' : 'none';\n",
              "\n",
              "        async function convertToInteractive(key) {\n",
              "          const element = document.querySelector('#df-5a8d130a-f84d-4bf9-b2af-b907b69c81b9');\n",
              "          const dataTable =\n",
              "            await google.colab.kernel.invokeFunction('convertToInteractive',\n",
              "                                                     [key], {});\n",
              "          if (!dataTable) return;\n",
              "\n",
              "          const docLinkHtml = 'Like what you see? Visit the ' +\n",
              "            '<a target=\"_blank\" href=https://colab.research.google.com/notebooks/data_table.ipynb>data table notebook</a>'\n",
              "            + ' to learn more about interactive tables.';\n",
              "          element.innerHTML = '';\n",
              "          dataTable['output_type'] = 'display_data';\n",
              "          await google.colab.output.renderOutput(dataTable, element);\n",
              "          const docLink = document.createElement('div');\n",
              "          docLink.innerHTML = docLinkHtml;\n",
              "          element.appendChild(docLink);\n",
              "        }\n",
              "      </script>\n",
              "    </div>\n",
              "  </div>\n",
              "  "
            ],
            "text/plain": [
              "    Red Cluster  Deep Blue Cluster  Blue Cluster  Pink Cluster  \\\n",
              "0         181.0                1.0           0.0           0.0   \n",
              "1          16.0                1.0          49.0           0.0   \n",
              "3           0.0                0.0           0.0           0.0   \n",
              "8         109.0                0.0          56.0           0.0   \n",
              "10         59.0                0.0           2.0           0.0   \n",
              "\n",
              "    Dark Green Cluster  Light/Near White Cluster  Light Blue/Black Cluster  \\\n",
              "0                  1.0                     168.0                       0.0   \n",
              "1                  1.0                     169.0                       0.0   \n",
              "3                  0.0                     150.0                       0.0   \n",
              "8                  0.0                     132.0                       0.0   \n",
              "10                 0.0                     160.0                       0.0   \n",
              "\n",
              "    Mid Blue/Black Cluster  Purple Cluster  Neon Green Cluster  \\\n",
              "0                    199.0             0.0                 0.0   \n",
              "1                     45.0             0.0                 0.0   \n",
              "3                     67.0             0.0                 0.0   \n",
              "8                    116.0             0.0                 0.0   \n",
              "10                    92.0             0.0                 0.0   \n",
              "\n",
              "    Yellow Cluster  Orange Cluster  Green Cluster  Yellow-Green Cluster  \\\n",
              "0             24.0             2.0            8.0                 127.0   \n",
              "1             23.0            26.0           13.0                  11.0   \n",
              "3             28.0            20.0            0.0                   5.0   \n",
              "8              0.0             0.0            6.0                   0.0   \n",
              "10             1.0             0.0            0.0                   0.0   \n",
              "\n",
              "    Brown Cluster  \n",
              "0           127.0  \n",
              "1            11.0  \n",
              "3             5.0  \n",
              "8             0.0  \n",
              "10            0.0  "
            ]
          },
          "metadata": {},
          "execution_count": 133
        }
      ]
    },
    {
      "cell_type": "code",
      "source": [
        "from scipy.cluster.hierarchy import dendrogram\n",
        "def plot_dendrogram(model, **kwargs):\n",
        "    # Create linkage matrix and then plot the dendrogram\n",
        "\n",
        "    # create the counts of samples under each node\n",
        "    counts = np.zeros(model.children_.shape[0])\n",
        "    n_samples = len(model.labels_)\n",
        "    for i, merge in enumerate(model.children_):\n",
        "        current_count = 0\n",
        "        for child_idx in merge:\n",
        "            if child_idx < n_samples:\n",
        "                current_count += 1  # leaf node\n",
        "            else:\n",
        "                current_count += counts[child_idx - n_samples]\n",
        "        counts[i] = current_count\n",
        "\n",
        "    linkage_matrix = np.column_stack(\n",
        "        [model.children_, model.distances_, counts]\n",
        "    ).astype(float)\n",
        "\n",
        "    # Plot the corresponding dendrogram\n",
        "    dendrogram(linkage_matrix, **kwargs)\n"
      ],
      "metadata": {
        "id": "VjNdrXzCkpCk"
      },
      "execution_count": 134,
      "outputs": []
    },
    {
      "cell_type": "code",
      "source": [
        "histmodel = skc.AgglomerativeClustering(compute_distances=True, distance_threshold=0, n_clusters=None)\n",
        "histmodel.fit(filteredset[clusters])\n",
        "histmodel.get_params()\n",
        "histmodel.labels_"
      ],
      "metadata": {
        "id": "k9_NWZ_9i8b9",
        "colab": {
          "base_uri": "https://localhost:8080/"
        },
        "outputId": "f08eb950-0128-492c-f20b-6b0060c32996"
      },
      "execution_count": 135,
      "outputs": [
        {
          "output_type": "execute_result",
          "data": {
            "text/plain": [
              "array([2635, 2308, 2787, ...,    5,    2,    0])"
            ]
          },
          "metadata": {},
          "execution_count": 135
        }
      ]
    },
    {
      "cell_type": "code",
      "source": [
        "plt.title(\"Hierarchical Clustering Dendrogram\")\n",
        "# plot the top three levels of the dendrogram\n",
        "plot_dendrogram(histmodel, truncate_mode=\"level\", p=3)\n",
        "plt.xlabel(\"Number of points in node (or index of point if no parenthesis).\")\n",
        "plt.show()"
      ],
      "metadata": {
        "id": "5LLT-i9kkxPT",
        "colab": {
          "base_uri": "https://localhost:8080/",
          "height": 298
        },
        "outputId": "47b339c4-c090-4a09-8b73-9340991ef598"
      },
      "execution_count": 136,
      "outputs": [
        {
          "output_type": "display_data",
          "data": {
            "image/png": "[encoded data removed]",
            "text/plain": [
              "<Figure size 432x288 with 1 Axes>"
            ]
          },
          "metadata": {
            "needs_background": "light"
          }
        }
      ]
    },
    {
      "cell_type": "code",
      "source": [
        "# Scale data and convert back to a DataFrame\n",
        "from sklearn.preprocessing import StandardScaler\n",
        "scale = StandardScaler()\n",
        "df_scaled = scale.fit_transform(filteredset[clusters])\n",
        "df_scaled = pd.DataFrame(df_scaled) \n",
        "df_scaled.columns = [filteredset[clusters][:0]]\n",
        "df_scaled.head()"
      ],
      "metadata": {
        "id": "yNMa5wCEsMib",
        "colab": {
          "base_uri": "https://localhost:8080/",
          "height": 267
        },
        "outputId": "f8e0b7d8-6089-47aa-ab9f-8dd9a0a40d3e"
      },
      "execution_count": 137,
      "outputs": [
        {
          "output_type": "execute_result",
          "data": {
            "text/html": [
              "\n",
              "  <div id=\"df-c452a984-85d1-4048-9607-952d7ae8dbcd\">\n",
              "    <div class=\"colab-df-container\">\n",
              "      <div>\n",
              "<style scoped>\n",
              "    .dataframe tbody tr th:only-of-type {\n",
              "        vertical-align: middle;\n",
              "    }\n",
              "\n",
              "    .dataframe tbody tr th {\n",
              "        vertical-align: top;\n",
              "    }\n",
              "\n",
              "    .dataframe thead tr th {\n",
              "        text-align: left;\n",
              "    }\n",
              "</style>\n",
              "<table border=\"1\" class=\"dataframe\">\n",
              "  <thead>\n",
              "    <tr>\n",
              "      <th></th>\n",
              "      <th>Red Cluster</th>\n",
              "      <th>Deep Blue Cluster</th>\n",
              "      <th>Blue Cluster</th>\n",
              "      <th>Pink Cluster</th>\n",
              "      <th>Dark Green Cluster</th>\n",
              "      <th>Light/Near White Cluster</th>\n",
              "      <th>Light Blue/Black Cluster</th>\n",
              "      <th>Mid Blue/Black Cluster</th>\n",
              "      <th>Purple Cluster</th>\n",
              "      <th>Neon Green Cluster</th>\n",
              "      <th>Yellow Cluster</th>\n",
              "      <th>Orange Cluster</th>\n",
              "      <th>Green Cluster</th>\n",
              "      <th>Yellow-Green Cluster</th>\n",
              "      <th>Brown Cluster</th>\n",
              "    </tr>\n",
              "  </thead>\n",
              "  <tbody>\n",
              "    <tr>\n",
              "      <th>0</th>\n",
              "      <td>2.089086</td>\n",
              "      <td>-0.069055</td>\n",
              "      <td>-0.585949</td>\n",
              "      <td>-0.187754</td>\n",
              "      <td>-0.124255</td>\n",
              "      <td>-0.035977</td>\n",
              "      <td>-0.195217</td>\n",
              "      <td>0.848504</td>\n",
              "      <td>-0.07717</td>\n",
              "      <td>-0.269002</td>\n",
              "      <td>-0.157662</td>\n",
              "      <td>-0.332072</td>\n",
              "      <td>-0.040936</td>\n",
              "      <td>1.790695</td>\n",
              "      <td>1.790695</td>\n",
              "    </tr>\n",
              "    <tr>\n",
              "      <th>1</th>\n",
              "      <td>-0.439332</td>\n",
              "      <td>-0.069055</td>\n",
              "      <td>0.342696</td>\n",
              "      <td>-0.187754</td>\n",
              "      <td>-0.124255</td>\n",
              "      <td>-0.032106</td>\n",
              "      <td>-0.195217</td>\n",
              "      <td>-0.387229</td>\n",
              "      <td>-0.07717</td>\n",
              "      <td>-0.269002</td>\n",
              "      <td>-0.176540</td>\n",
              "      <td>0.117777</td>\n",
              "      <td>0.103406</td>\n",
              "      <td>-0.073508</td>\n",
              "      <td>-0.073508</td>\n",
              "    </tr>\n",
              "    <tr>\n",
              "      <th>2</th>\n",
              "      <td>-0.684512</td>\n",
              "      <td>-0.183910</td>\n",
              "      <td>-0.585949</td>\n",
              "      <td>-0.187754</td>\n",
              "      <td>-0.215964</td>\n",
              "      <td>-0.105663</td>\n",
              "      <td>-0.195217</td>\n",
              "      <td>-0.210695</td>\n",
              "      <td>-0.07717</td>\n",
              "      <td>-0.269002</td>\n",
              "      <td>-0.082152</td>\n",
              "      <td>0.005315</td>\n",
              "      <td>-0.271883</td>\n",
              "      <td>-0.169932</td>\n",
              "      <td>-0.169932</td>\n",
              "    </tr>\n",
              "    <tr>\n",
              "      <th>3</th>\n",
              "      <td>0.985776</td>\n",
              "      <td>-0.183910</td>\n",
              "      <td>0.475360</td>\n",
              "      <td>-0.187754</td>\n",
              "      <td>-0.215964</td>\n",
              "      <td>-0.175348</td>\n",
              "      <td>-0.195217</td>\n",
              "      <td>0.182492</td>\n",
              "      <td>-0.07717</td>\n",
              "      <td>-0.269002</td>\n",
              "      <td>-0.610726</td>\n",
              "      <td>-0.369560</td>\n",
              "      <td>-0.098673</td>\n",
              "      <td>-0.250286</td>\n",
              "      <td>-0.250286</td>\n",
              "    </tr>\n",
              "    <tr>\n",
              "      <th>4</th>\n",
              "      <td>0.219589</td>\n",
              "      <td>-0.183910</td>\n",
              "      <td>-0.548045</td>\n",
              "      <td>-0.187754</td>\n",
              "      <td>-0.215964</td>\n",
              "      <td>-0.066949</td>\n",
              "      <td>-0.195217</td>\n",
              "      <td>-0.010089</td>\n",
              "      <td>-0.07717</td>\n",
              "      <td>-0.269002</td>\n",
              "      <td>-0.591848</td>\n",
              "      <td>-0.369560</td>\n",
              "      <td>-0.271883</td>\n",
              "      <td>-0.250286</td>\n",
              "      <td>-0.250286</td>\n",
              "    </tr>\n",
              "  </tbody>\n",
              "</table>\n",
              "</div>\n",
              "      <button class=\"colab-df-convert\" onclick=\"convertToInteractive('df-c452a984-85d1-4048-9607-952d7ae8dbcd')\"\n",
              "              title=\"Convert this dataframe to an interactive table.\"\n",
              "              style=\"display:none;\">\n",
              "        \n",
              "  <svg xmlns=\"http://www.w3.org/2000/svg\" height=\"24px\"viewBox=\"0 0 24 24\"\n",
              "       width=\"24px\">\n",
              "    <path d=\"M0 0h24v24H0V0z\" fill=\"none\"/>\n",
              "    <path d=\"M18.56 5.44l.94 2.06.94-2.06 2.06-.94-2.06-.94-.94-2.06-.94 2.06-2.06.94zm-11 1L8.5 8.5l.94-2.06 2.06-.94-2.06-.94L8.5 2.5l-.94 2.06-2.06.94zm10 10l.94 2.06.94-2.06 2.06-.94-2.06-.94-.94-2.06-.94 2.06-2.06.94z\"/><path d=\"M17.41 7.96l-1.37-1.37c-.4-.4-.92-.59-1.43-.59-.52 0-1.04.2-1.43.59L10.3 9.45l-7.72 7.72c-.78.78-.78 2.05 0 2.83L4 21.41c.39.39.9.59 1.41.59.51 0 1.02-.2 1.41-.59l7.78-7.78 2.81-2.81c.8-.78.8-2.07 0-2.86zM5.41 20L4 18.59l7.72-7.72 1.47 1.35L5.41 20z\"/>\n",
              "  </svg>\n",
              "      </button>\n",
              "      \n",
              "  <style>\n",
              "    .colab-df-container {\n",
              "      display:flex;\n",
              "      flex-wrap:wrap;\n",
              "      gap: 12px;\n",
              "    }\n",
              "\n",
              "    .colab-df-convert {\n",
              "      background-color: #E8F0FE;\n",
              "      border: none;\n",
              "      border-radius: 50%;\n",
              "      cursor: pointer;\n",
              "      display: none;\n",
              "      fill: #1967D2;\n",
              "      height: 32px;\n",
              "      padding: 0 0 0 0;\n",
              "      width: 32px;\n",
              "    }\n",
              "\n",
              "    .colab-df-convert:hover {\n",
              "      background-color: #E2EBFA;\n",
              "      box-shadow: 0px 1px 2px rgba(60, 64, 67, 0.3), 0px 1px 3px 1px rgba(60, 64, 67, 0.15);\n",
              "      fill: #174EA6;\n",
              "    }\n",
              "\n",
              "    [theme=dark] .colab-df-convert {\n",
              "      background-color: #3B4455;\n",
              "      fill: #D2E3FC;\n",
              "    }\n",
              "\n",
              "    [theme=dark] .colab-df-convert:hover {\n",
              "      background-color: #434B5C;\n",
              "      box-shadow: 0px 1px 3px 1px rgba(0, 0, 0, 0.15);\n",
              "      filter: drop-shadow(0px 1px 2px rgba(0, 0, 0, 0.3));\n",
              "      fill: #FFFFFF;\n",
              "    }\n",
              "  </style>\n",
              "\n",
              "      <script>\n",
              "        const buttonEl =\n",
              "          document.querySelector('#df-c452a984-85d1-4048-9607-952d7ae8dbcd button.colab-df-convert');\n",
              "        buttonEl.style.display =\n",
              "          google.colab.kernel.accessAllowed ? 'block' : 'none';\n",
              "\n",
              "        async function convertToInteractive(key) {\n",
              "          const element = document.querySelector('#df-c452a984-85d1-4048-9607-952d7ae8dbcd');\n",
              "          const dataTable =\n",
              "            await google.colab.kernel.invokeFunction('convertToInteractive',\n",
              "                                                     [key], {});\n",
              "          if (!dataTable) return;\n",
              "\n",
              "          const docLinkHtml = 'Like what you see? Visit the ' +\n",
              "            '<a target=\"_blank\" href=https://colab.research.google.com/notebooks/data_table.ipynb>data table notebook</a>'\n",
              "            + ' to learn more about interactive tables.';\n",
              "          element.innerHTML = '';\n",
              "          dataTable['output_type'] = 'display_data';\n",
              "          await google.colab.output.renderOutput(dataTable, element);\n",
              "          const docLink = document.createElement('div');\n",
              "          docLink.innerHTML = docLinkHtml;\n",
              "          element.appendChild(docLink);\n",
              "        }\n",
              "      </script>\n",
              "    </div>\n",
              "  </div>\n",
              "  "
            ],
            "text/plain": [
              "  Red Cluster Deep Blue Cluster Blue Cluster Pink Cluster Dark Green Cluster  \\\n",
              "0    2.089086         -0.069055    -0.585949    -0.187754          -0.124255   \n",
              "1   -0.439332         -0.069055     0.342696    -0.187754          -0.124255   \n",
              "2   -0.684512         -0.183910    -0.585949    -0.187754          -0.215964   \n",
              "3    0.985776         -0.183910     0.475360    -0.187754          -0.215964   \n",
              "4    0.219589         -0.183910    -0.548045    -0.187754          -0.215964   \n",
              "\n",
              "  Light/Near White Cluster Light Blue/Black Cluster Mid Blue/Black Cluster  \\\n",
              "0                -0.035977                -0.195217               0.848504   \n",
              "1                -0.032106                -0.195217              -0.387229   \n",
              "2                -0.105663                -0.195217              -0.210695   \n",
              "3                -0.175348                -0.195217               0.182492   \n",
              "4                -0.066949                -0.195217              -0.010089   \n",
              "\n",
              "  Purple Cluster Neon Green Cluster Yellow Cluster Orange Cluster  \\\n",
              "0       -0.07717          -0.269002      -0.157662      -0.332072   \n",
              "1       -0.07717          -0.269002      -0.176540       0.117777   \n",
              "2       -0.07717          -0.269002      -0.082152       0.005315   \n",
              "3       -0.07717          -0.269002      -0.610726      -0.369560   \n",
              "4       -0.07717          -0.269002      -0.591848      -0.369560   \n",
              "\n",
              "  Green Cluster Yellow-Green Cluster Brown Cluster  \n",
              "0     -0.040936             1.790695      1.790695  \n",
              "1      0.103406            -0.073508     -0.073508  \n",
              "2     -0.271883            -0.169932     -0.169932  \n",
              "3     -0.098673            -0.250286     -0.250286  \n",
              "4     -0.271883            -0.250286     -0.250286  "
            ]
          },
          "metadata": {},
          "execution_count": 137
        }
      ]
    },
    {
      "cell_type": "code",
      "source": [
        "set_name = filteredset[\"Set Name\"]\n",
        "# Run PCA on the feature set dataframe\n",
        "from sklearn.decomposition import PCA\n",
        "pca = PCA(n_components = 2)\n",
        "principle_components = pca.fit_transform(df_scaled)\n",
        "\n",
        "# Stick back into a DataFrame with the original country labels\n",
        "df_pca = pd.DataFrame(principle_components)\n",
        "df_pca = pd.concat([df_pca, pd.Series(set_name.array)], axis = 1)\n",
        "df_pca.columns = ['pc1','pc2','Set Name']\n",
        "df_pca.head()"
      ],
      "metadata": {
        "id": "GvZGbIgSseQC",
        "colab": {
          "base_uri": "https://localhost:8080/",
          "height": 244
        },
        "outputId": "a661a015-cbde-4d27-ada4-ecf2949c674e"
      },
      "execution_count": 138,
      "outputs": [
        {
          "output_type": "stream",
          "name": "stderr",
          "text": [
            "/usr/local/lib/python3.7/dist-packages/sklearn/utils/validation.py:1692: FutureWarning: Feature names only support names that are all strings. Got feature names with dtypes: ['tuple']. An error will be raised in 1.2.\n",
            "  FutureWarning,\n"
          ]
        },
        {
          "output_type": "execute_result",
          "data": {
            "text/html": [
              "\n",
              "  <div id=\"df-dd391f36-69ca-49d5-a1ca-a1ed2e273778\">\n",
              "    <div class=\"colab-df-container\">\n",
              "      <div>\n",
              "<style scoped>\n",
              "    .dataframe tbody tr th:only-of-type {\n",
              "        vertical-align: middle;\n",
              "    }\n",
              "\n",
              "    .dataframe tbody tr th {\n",
              "        vertical-align: top;\n",
              "    }\n",
              "\n",
              "    .dataframe thead th {\n",
              "        text-align: right;\n",
              "    }\n",
              "</style>\n",
              "<table border=\"1\" class=\"dataframe\">\n",
              "  <thead>\n",
              "    <tr style=\"text-align: right;\">\n",
              "      <th></th>\n",
              "      <th>pc1</th>\n",
              "      <th>pc2</th>\n",
              "      <th>Set Name</th>\n",
              "    </tr>\n",
              "  </thead>\n",
              "  <tbody>\n",
              "    <tr>\n",
              "      <th>0</th>\n",
              "      <td>1.586615</td>\n",
              "      <td>1.211812</td>\n",
              "      <td>Dragon Fortress</td>\n",
              "    </tr>\n",
              "    <tr>\n",
              "      <th>1</th>\n",
              "      <td>-0.324161</td>\n",
              "      <td>0.066292</td>\n",
              "      <td>Scorpion Palace</td>\n",
              "    </tr>\n",
              "    <tr>\n",
              "      <th>2</th>\n",
              "      <td>-0.835056</td>\n",
              "      <td>0.364113</td>\n",
              "      <td>Temple of Mount Everest</td>\n",
              "    </tr>\n",
              "    <tr>\n",
              "      <th>3</th>\n",
              "      <td>-0.249512</td>\n",
              "      <td>-0.602767</td>\n",
              "      <td>Structures Set</td>\n",
              "    </tr>\n",
              "    <tr>\n",
              "      <th>4</th>\n",
              "      <td>-0.825581</td>\n",
              "      <td>0.081685</td>\n",
              "      <td>Technology Activity Set</td>\n",
              "    </tr>\n",
              "  </tbody>\n",
              "</table>\n",
              "</div>\n",
              "      <button class=\"colab-df-convert\" onclick=\"convertToInteractive('df-dd391f36-69ca-49d5-a1ca-a1ed2e273778')\"\n",
              "              title=\"Convert this dataframe to an interactive table.\"\n",
              "              style=\"display:none;\">\n",
              "        \n",
              "  <svg xmlns=\"http://www.w3.org/2000/svg\" height=\"24px\"viewBox=\"0 0 24 24\"\n",
              "       width=\"24px\">\n",
              "    <path d=\"M0 0h24v24H0V0z\" fill=\"none\"/>\n",
              "    <path d=\"M18.56 5.44l.94 2.06.94-2.06 2.06-.94-2.06-.94-.94-2.06-.94 2.06-2.06.94zm-11 1L8.5 8.5l.94-2.06 2.06-.94-2.06-.94L8.5 2.5l-.94 2.06-2.06.94zm10 10l.94 2.06.94-2.06 2.06-.94-2.06-.94-.94-2.06-.94 2.06-2.06.94z\"/><path d=\"M17.41 7.96l-1.37-1.37c-.4-.4-.92-.59-1.43-.59-.52 0-1.04.2-1.43.59L10.3 9.45l-7.72 7.72c-.78.78-.78 2.05 0 2.83L4 21.41c.39.39.9.59 1.41.59.51 0 1.02-.2 1.41-.59l7.78-7.78 2.81-2.81c.8-.78.8-2.07 0-2.86zM5.41 20L4 18.59l7.72-7.72 1.47 1.35L5.41 20z\"/>\n",
              "  </svg>\n",
              "      </button>\n",
              "      \n",
              "  <style>\n",
              "    .colab-df-container {\n",
              "      display:flex;\n",
              "      flex-wrap:wrap;\n",
              "      gap: 12px;\n",
              "    }\n",
              "\n",
              "    .colab-df-convert {\n",
              "      background-color: #E8F0FE;\n",
              "      border: none;\n",
              "      border-radius: 50%;\n",
              "      cursor: pointer;\n",
              "      display: none;\n",
              "      fill: #1967D2;\n",
              "      height: 32px;\n",
              "      padding: 0 0 0 0;\n",
              "      width: 32px;\n",
              "    }\n",
              "\n",
              "    .colab-df-convert:hover {\n",
              "      background-color: #E2EBFA;\n",
              "      box-shadow: 0px 1px 2px rgba(60, 64, 67, 0.3), 0px 1px 3px 1px rgba(60, 64, 67, 0.15);\n",
              "      fill: #174EA6;\n",
              "    }\n",
              "\n",
              "    [theme=dark] .colab-df-convert {\n",
              "      background-color: #3B4455;\n",
              "      fill: #D2E3FC;\n",
              "    }\n",
              "\n",
              "    [theme=dark] .colab-df-convert:hover {\n",
              "      background-color: #434B5C;\n",
              "      box-shadow: 0px 1px 3px 1px rgba(0, 0, 0, 0.15);\n",
              "      filter: drop-shadow(0px 1px 2px rgba(0, 0, 0, 0.3));\n",
              "      fill: #FFFFFF;\n",
              "    }\n",
              "  </style>\n",
              "\n",
              "      <script>\n",
              "        const buttonEl =\n",
              "          document.querySelector('#df-dd391f36-69ca-49d5-a1ca-a1ed2e273778 button.colab-df-convert');\n",
              "        buttonEl.style.display =\n",
              "          google.colab.kernel.accessAllowed ? 'block' : 'none';\n",
              "\n",
              "        async function convertToInteractive(key) {\n",
              "          const element = document.querySelector('#df-dd391f36-69ca-49d5-a1ca-a1ed2e273778');\n",
              "          const dataTable =\n",
              "            await google.colab.kernel.invokeFunction('convertToInteractive',\n",
              "                                                     [key], {});\n",
              "          if (!dataTable) return;\n",
              "\n",
              "          const docLinkHtml = 'Like what you see? Visit the ' +\n",
              "            '<a target=\"_blank\" href=https://colab.research.google.com/notebooks/data_table.ipynb>data table notebook</a>'\n",
              "            + ' to learn more about interactive tables.';\n",
              "          element.innerHTML = '';\n",
              "          dataTable['output_type'] = 'display_data';\n",
              "          await google.colab.output.renderOutput(dataTable, element);\n",
              "          const docLink = document.createElement('div');\n",
              "          docLink.innerHTML = docLinkHtml;\n",
              "          element.appendChild(docLink);\n",
              "        }\n",
              "      </script>\n",
              "    </div>\n",
              "  </div>\n",
              "  "
            ],
            "text/plain": [
              "        pc1       pc2                 Set Name\n",
              "0  1.586615  1.211812          Dragon Fortress\n",
              "1 -0.324161  0.066292          Scorpion Palace\n",
              "2 -0.835056  0.364113  Temple of Mount Everest\n",
              "3 -0.249512 -0.602767           Structures Set\n",
              "4 -0.825581  0.081685  Technology Activity Set"
            ]
          },
          "metadata": {},
          "execution_count": 138
        }
      ]
    },
    {
      "cell_type": "code",
      "source": [
        "components = pd.DataFrame(pca.components_)\n",
        "components.columns = filteredset[clusters].columns\n",
        "components"
      ],
      "metadata": {
        "id": "63TFoR1Ms1lP",
        "colab": {
          "base_uri": "https://localhost:8080/",
          "height": 173
        },
        "outputId": "606424d1-98ad-4f53-fe6f-40956e1b5714"
      },
      "execution_count": 139,
      "outputs": [
        {
          "output_type": "execute_result",
          "data": {
            "text/html": [
              "\n",
              "  <div id=\"df-4da9fc38-cf2b-4dee-8b6a-83ed796417f7\">\n",
              "    <div class=\"colab-df-container\">\n",
              "      <div>\n",
              "<style scoped>\n",
              "    .dataframe tbody tr th:only-of-type {\n",
              "        vertical-align: middle;\n",
              "    }\n",
              "\n",
              "    .dataframe tbody tr th {\n",
              "        vertical-align: top;\n",
              "    }\n",
              "\n",
              "    .dataframe thead th {\n",
              "        text-align: right;\n",
              "    }\n",
              "</style>\n",
              "<table border=\"1\" class=\"dataframe\">\n",
              "  <thead>\n",
              "    <tr style=\"text-align: right;\">\n",
              "      <th></th>\n",
              "      <th>Red Cluster</th>\n",
              "      <th>Deep Blue Cluster</th>\n",
              "      <th>Blue Cluster</th>\n",
              "      <th>Pink Cluster</th>\n",
              "      <th>Dark Green Cluster</th>\n",
              "      <th>Light/Near White Cluster</th>\n",
              "      <th>Light Blue/Black Cluster</th>\n",
              "      <th>Mid Blue/Black Cluster</th>\n",
              "      <th>Purple Cluster</th>\n",
              "      <th>Neon Green Cluster</th>\n",
              "      <th>Yellow Cluster</th>\n",
              "      <th>Orange Cluster</th>\n",
              "      <th>Green Cluster</th>\n",
              "      <th>Yellow-Green Cluster</th>\n",
              "      <th>Brown Cluster</th>\n",
              "    </tr>\n",
              "  </thead>\n",
              "  <tbody>\n",
              "    <tr>\n",
              "      <th>0</th>\n",
              "      <td>0.271137</td>\n",
              "      <td>0.135620</td>\n",
              "      <td>0.307445</td>\n",
              "      <td>0.176537</td>\n",
              "      <td>0.106398</td>\n",
              "      <td>0.377586</td>\n",
              "      <td>0.121177</td>\n",
              "      <td>0.307663</td>\n",
              "      <td>-0.002990</td>\n",
              "      <td>0.199467</td>\n",
              "      <td>0.309274</td>\n",
              "      <td>0.294045</td>\n",
              "      <td>0.238372</td>\n",
              "      <td>0.346729</td>\n",
              "      <td>0.346729</td>\n",
              "    </tr>\n",
              "    <tr>\n",
              "      <th>1</th>\n",
              "      <td>-0.360342</td>\n",
              "      <td>0.029029</td>\n",
              "      <td>-0.340525</td>\n",
              "      <td>-0.025303</td>\n",
              "      <td>0.119703</td>\n",
              "      <td>0.075982</td>\n",
              "      <td>0.095226</td>\n",
              "      <td>-0.125548</td>\n",
              "      <td>-0.011704</td>\n",
              "      <td>-0.123021</td>\n",
              "      <td>-0.360404</td>\n",
              "      <td>0.062207</td>\n",
              "      <td>-0.197949</td>\n",
              "      <td>0.509689</td>\n",
              "      <td>0.509689</td>\n",
              "    </tr>\n",
              "  </tbody>\n",
              "</table>\n",
              "</div>\n",
              "      <button class=\"colab-df-convert\" onclick=\"convertToInteractive('df-4da9fc38-cf2b-4dee-8b6a-83ed796417f7')\"\n",
              "              title=\"Convert this dataframe to an interactive table.\"\n",
              "              style=\"display:none;\">\n",
              "        \n",
              "  <svg xmlns=\"http://www.w3.org/2000/svg\" height=\"24px\"viewBox=\"0 0 24 24\"\n",
              "       width=\"24px\">\n",
              "    <path d=\"M0 0h24v24H0V0z\" fill=\"none\"/>\n",
              "    <path d=\"M18.56 5.44l.94 2.06.94-2.06 2.06-.94-2.06-.94-.94-2.06-.94 2.06-2.06.94zm-11 1L8.5 8.5l.94-2.06 2.06-.94-2.06-.94L8.5 2.5l-.94 2.06-2.06.94zm10 10l.94 2.06.94-2.06 2.06-.94-2.06-.94-.94-2.06-.94 2.06-2.06.94z\"/><path d=\"M17.41 7.96l-1.37-1.37c-.4-.4-.92-.59-1.43-.59-.52 0-1.04.2-1.43.59L10.3 9.45l-7.72 7.72c-.78.78-.78 2.05 0 2.83L4 21.41c.39.39.9.59 1.41.59.51 0 1.02-.2 1.41-.59l7.78-7.78 2.81-2.81c.8-.78.8-2.07 0-2.86zM5.41 20L4 18.59l7.72-7.72 1.47 1.35L5.41 20z\"/>\n",
              "  </svg>\n",
              "      </button>\n",
              "      \n",
              "  <style>\n",
              "    .colab-df-container {\n",
              "      display:flex;\n",
              "      flex-wrap:wrap;\n",
              "      gap: 12px;\n",
              "    }\n",
              "\n",
              "    .colab-df-convert {\n",
              "      background-color: #E8F0FE;\n",
              "      border: none;\n",
              "      border-radius: 50%;\n",
              "      cursor: pointer;\n",
              "      display: none;\n",
              "      fill: #1967D2;\n",
              "      height: 32px;\n",
              "      padding: 0 0 0 0;\n",
              "      width: 32px;\n",
              "    }\n",
              "\n",
              "    .colab-df-convert:hover {\n",
              "      background-color: #E2EBFA;\n",
              "      box-shadow: 0px 1px 2px rgba(60, 64, 67, 0.3), 0px 1px 3px 1px rgba(60, 64, 67, 0.15);\n",
              "      fill: #174EA6;\n",
              "    }\n",
              "\n",
              "    [theme=dark] .colab-df-convert {\n",
              "      background-color: #3B4455;\n",
              "      fill: #D2E3FC;\n",
              "    }\n",
              "\n",
              "    [theme=dark] .colab-df-convert:hover {\n",
              "      background-color: #434B5C;\n",
              "      box-shadow: 0px 1px 3px 1px rgba(0, 0, 0, 0.15);\n",
              "      filter: drop-shadow(0px 1px 2px rgba(0, 0, 0, 0.3));\n",
              "      fill: #FFFFFF;\n",
              "    }\n",
              "  </style>\n",
              "\n",
              "      <script>\n",
              "        const buttonEl =\n",
              "          document.querySelector('#df-4da9fc38-cf2b-4dee-8b6a-83ed796417f7 button.colab-df-convert');\n",
              "        buttonEl.style.display =\n",
              "          google.colab.kernel.accessAllowed ? 'block' : 'none';\n",
              "\n",
              "        async function convertToInteractive(key) {\n",
              "          const element = document.querySelector('#df-4da9fc38-cf2b-4dee-8b6a-83ed796417f7');\n",
              "          const dataTable =\n",
              "            await google.colab.kernel.invokeFunction('convertToInteractive',\n",
              "                                                     [key], {});\n",
              "          if (!dataTable) return;\n",
              "\n",
              "          const docLinkHtml = 'Like what you see? Visit the ' +\n",
              "            '<a target=\"_blank\" href=https://colab.research.google.com/notebooks/data_table.ipynb>data table notebook</a>'\n",
              "            + ' to learn more about interactive tables.';\n",
              "          element.innerHTML = '';\n",
              "          dataTable['output_type'] = 'display_data';\n",
              "          await google.colab.output.renderOutput(dataTable, element);\n",
              "          const docLink = document.createElement('div');\n",
              "          docLink.innerHTML = docLinkHtml;\n",
              "          element.appendChild(docLink);\n",
              "        }\n",
              "      </script>\n",
              "    </div>\n",
              "  </div>\n",
              "  "
            ],
            "text/plain": [
              "   Red Cluster  Deep Blue Cluster  Blue Cluster  Pink Cluster  \\\n",
              "0     0.271137           0.135620      0.307445      0.176537   \n",
              "1    -0.360342           0.029029     -0.340525     -0.025303   \n",
              "\n",
              "   Dark Green Cluster  Light/Near White Cluster  Light Blue/Black Cluster  \\\n",
              "0            0.106398                  0.377586                  0.121177   \n",
              "1            0.119703                  0.075982                  0.095226   \n",
              "\n",
              "   Mid Blue/Black Cluster  Purple Cluster  Neon Green Cluster  Yellow Cluster  \\\n",
              "0                0.307663       -0.002990            0.199467        0.309274   \n",
              "1               -0.125548       -0.011704           -0.123021       -0.360404   \n",
              "\n",
              "   Orange Cluster  Green Cluster  Yellow-Green Cluster  Brown Cluster  \n",
              "0        0.294045       0.238372              0.346729       0.346729  \n",
              "1        0.062207      -0.197949              0.509689       0.509689  "
            ]
          },
          "metadata": {},
          "execution_count": 139
        }
      ]
    },
    {
      "cell_type": "code",
      "source": [
        "explained_variance = pd.DataFrame({'var':pca.explained_variance_ratio_,\n",
        "             'PC':['PC'+ str(i) for i in range(pca.n_components_)]})\n",
        "sns.barplot(x='PC',y=\"var\", data=explained_variance, color='.7');"
      ],
      "metadata": {
        "id": "zOS18E47tIT8",
        "colab": {
          "base_uri": "https://localhost:8080/",
          "height": 279
        },
        "outputId": "432398e2-df1a-480b-d6f5-fd9f0e292fa3"
      },
      "execution_count": 140,
      "outputs": [
        {
          "output_type": "display_data",
          "data": {
            "image/png": "[encoded data removed]",
            "text/plain": [
              "<Figure size 432x288 with 1 Axes>"
            ]
          },
          "metadata": {
            "needs_background": "light"
          }
        }
      ]
    },
    {
      "cell_type": "code",
      "source": [
        "# Plot using the Principle Components as Axes\n",
        "sns.lmplot(data=df_pca, x='pc1', y='pc2', fit_reg=False, height=8)\n",
        "\n",
        "# set the maximum variance of the first two PCs\n",
        "# this will be the end point of the arrow of each **original feature**\n",
        "xvector = pca.components_[0]\n",
        "yvector = pca.components_[1]\n",
        " \n",
        "# value of the first two PCs, set the x, y axis boundary\n",
        "xs = pca.transform(df_scaled)[:,0]\n",
        "ys = pca.transform(df_scaled)[:,1]\n",
        "\n",
        "# label countries\n",
        "# for row in range(0,df_pca.shape[0]):\n",
        "#      plt.text(df_pca.pc1[row]+0.01, df_pca.pc2[row], \n",
        "#      df_pca.country[row], horizontalalignment='left', \n",
        "#      size='small', color='grey', weight='light')\n",
        "\n",
        "# arrows project features (columns from csv) as vectors onto PC axes\n",
        "for i in range(len(xvector)):\n",
        "    plt.arrow(0, 0, xvector[i]*max(xs), yvector[i]*max(ys),\n",
        "              color='r', width=0.005, head_width=0.05)\n",
        "    plt.text(xvector[i]*max(xs)*1.1, yvector[i]*max(ys)*1.1,\n",
        "             list(filteredset[clusters].columns.values)[i], color='r')\n"
      ],
      "metadata": {
        "id": "8uSD9IUBtMGL",
        "colab": {
          "base_uri": "https://localhost:8080/",
          "height": 660
        },
        "outputId": "90fd1dd9-9c59-445e-86e8-968165a4e6ee"
      },
      "execution_count": 141,
      "outputs": [
        {
          "output_type": "stream",
          "name": "stderr",
          "text": [
            "/usr/local/lib/python3.7/dist-packages/sklearn/utils/validation.py:1692: FutureWarning: Feature names only support names that are all strings. Got feature names with dtypes: ['tuple']. An error will be raised in 1.2.\n",
            "  FutureWarning,\n",
            "/usr/local/lib/python3.7/dist-packages/sklearn/utils/validation.py:1692: FutureWarning: Feature names only support names that are all strings. Got feature names with dtypes: ['tuple']. An error will be raised in 1.2.\n",
            "  FutureWarning,\n"
          ]
        },
        {
          "output_type": "display_data",
          "data": {
            "image/png": "[encoded data removed]",
            "text/plain": [
              "<Figure size 576x576 with 1 Axes>"
            ]
          },
          "metadata": {
            "needs_background": "light"
          }
        }
      ]
    },
    {
      "cell_type": "code",
      "source": [
        "# first, plot the observed data\n",
        "# scatter = alt.Chart(filtereddata).mark_point().encode(\n",
        "#     x='Player',\n",
        "#     y='PPM'\n",
        "# )\n",
        "\n",
        "# # then, plot the least squares line\n",
        "rule = alt.Chart(filtereddata3).mark_point().encode(\n",
        "    x='PPM',\n",
        "    y='predictions',\n",
        "    color='Position'\n",
        ")\n",
        "\n",
        "line = alt.Chart(X_min_max).mark_line().encode(\n",
        "    x='X',\n",
        "    y='Y',\n",
        ")\n",
        "\n",
        "# and combine the two in one plot\n",
        "# scatter + rule\n",
        "rule + line"
      ],
      "metadata": {
        "id": "Gm5IgmGsumAB"
      },
      "execution_count": null,
      "outputs": []
    },
    {
      "cell_type": "markdown",
      "source": [
        "**+2 more analysis questions of your own** using either dataset and whatever tool(s) you prefer. "
      ],
      "metadata": {
        "id": "MMWDQby08p50"
      }
    },
    {
      "cell_type": "code",
      "source": [
        ""
      ],
      "metadata": {
        "id": "YgfrGitk8tS4"
      },
      "execution_count": null,
      "outputs": []
    }
  ],
  "metadata": {
    "kernelspec": {
      "display_name": "Python 3",
      "language": "python",
      "name": "python3"
    },
    "language_info": {
      "codemirror_mode": {
        "name": "ipython",
        "version": 3
      },
      "file_extension": ".py",
      "mimetype": "text/x-python",
      "name": "python",
      "nbconvert_exporter": "python",
      "pygments_lexer": "ipython3",
      "version": "3.6.7"
    },
    "colab": {
      "name": "Copy_of_Datathon_Clustering(1).ipynb",
      "provenance": [],
      "collapsed_sections": []
    }
  },
  "nbformat": 4,
  "nbformat_minor": 0
}